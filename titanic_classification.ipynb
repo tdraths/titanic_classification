{
  "nbformat": 4,
  "nbformat_minor": 5,
  "metadata": {
    "kernelspec": {
      "display_name": "Python 3",
      "language": "python",
      "name": "python3"
    },
    "language_info": {
      "codemirror_mode": {
        "name": "ipython",
        "version": 3
      },
      "file_extension": ".py",
      "mimetype": "text/x-python",
      "name": "python",
      "nbconvert_exporter": "python",
      "pygments_lexer": "ipython3",
      "version": "3.7.10"
    },
    "colab": {
      "name": "titanic_classification.ipynb",
      "provenance": [],
      "include_colab_link": true
    }
  },
  "cells": [
    {
      "cell_type": "markdown",
      "metadata": {
        "id": "view-in-github",
        "colab_type": "text"
      },
      "source": [
        "<a href=\"https://colab.research.google.com/github/tdraths/titanic_classification/blob/main/titanic_classification.ipynb\" target=\"_parent\"><img src=\"https://colab.research.google.com/assets/colab-badge.svg\" alt=\"Open In Colab\"/></a>"
      ]
    },
    {
      "cell_type": "code",
      "metadata": {
        "id": "radio-rally"
      },
      "source": [
        "import pandas as pd\n",
        "import numpy as np\n",
        "import re\n",
        "\n",
        "import seaborn as sns\n",
        "import matplotlib.pyplot as plt\n",
        "%matplotlib inline\n",
        "plt.style.use('seaborn-colorblind')\n",
        "\n",
        "\n",
        "\n",
        "from sklearn import linear_model\n",
        "from sklearn.linear_model import LogisticRegression\n",
        "from sklearn.ensemble import RandomForestClassifier\n",
        "from sklearn.linear_model import SGDClassifier\n",
        "from sklearn.tree import DecisionTreeClassifier\n",
        "from sklearn.neighbors import KNeighborsClassifier\n",
        "from sklearn.naive_bayes import GaussianNB\n",
        "import xgboost as xgb\n",
        "\n",
        "from sklearn.model_selection import cross_val_score, GridSearchCV"
      ],
      "id": "radio-rally",
      "execution_count": 1,
      "outputs": []
    },
    {
      "cell_type": "code",
      "metadata": {
        "colab": {
          "base_uri": "https://localhost:8080/"
        },
        "id": "active-gnome",
        "outputId": "97286a0b-2fc6-4051-e0ce-3801f7cff310"
      },
      "source": [
        "titanic_test = pd.read_csv('test (1).csv')\n",
        "titanic_train = pd.read_csv('train (1).csv')\n",
        "\n",
        "titanic_train.info()"
      ],
      "id": "active-gnome",
      "execution_count": 2,
      "outputs": [
        {
          "output_type": "stream",
          "text": [
            "<class 'pandas.core.frame.DataFrame'>\n",
            "RangeIndex: 891 entries, 0 to 890\n",
            "Data columns (total 12 columns):\n",
            " #   Column       Non-Null Count  Dtype  \n",
            "---  ------       --------------  -----  \n",
            " 0   PassengerId  891 non-null    int64  \n",
            " 1   Survived     891 non-null    int64  \n",
            " 2   Pclass       891 non-null    int64  \n",
            " 3   Name         891 non-null    object \n",
            " 4   Sex          891 non-null    object \n",
            " 5   Age          714 non-null    float64\n",
            " 6   SibSp        891 non-null    int64  \n",
            " 7   Parch        891 non-null    int64  \n",
            " 8   Ticket       891 non-null    object \n",
            " 9   Fare         891 non-null    float64\n",
            " 10  Cabin        204 non-null    object \n",
            " 11  Embarked     889 non-null    object \n",
            "dtypes: float64(2), int64(5), object(5)\n",
            "memory usage: 83.7+ KB\n"
          ],
          "name": "stdout"
        }
      ]
    },
    {
      "cell_type": "code",
      "metadata": {
        "colab": {
          "base_uri": "https://localhost:8080/",
          "height": 296
        },
        "id": "loving-hollywood",
        "outputId": "c756e1ff-87fd-4989-c2b0-950952849b46"
      },
      "source": [
        "titanic_train.describe()"
      ],
      "id": "loving-hollywood",
      "execution_count": 3,
      "outputs": [
        {
          "output_type": "execute_result",
          "data": {
            "text/html": [
              "<div>\n",
              "<style scoped>\n",
              "    .dataframe tbody tr th:only-of-type {\n",
              "        vertical-align: middle;\n",
              "    }\n",
              "\n",
              "    .dataframe tbody tr th {\n",
              "        vertical-align: top;\n",
              "    }\n",
              "\n",
              "    .dataframe thead th {\n",
              "        text-align: right;\n",
              "    }\n",
              "</style>\n",
              "<table border=\"1\" class=\"dataframe\">\n",
              "  <thead>\n",
              "    <tr style=\"text-align: right;\">\n",
              "      <th></th>\n",
              "      <th>PassengerId</th>\n",
              "      <th>Survived</th>\n",
              "      <th>Pclass</th>\n",
              "      <th>Age</th>\n",
              "      <th>SibSp</th>\n",
              "      <th>Parch</th>\n",
              "      <th>Fare</th>\n",
              "    </tr>\n",
              "  </thead>\n",
              "  <tbody>\n",
              "    <tr>\n",
              "      <th>count</th>\n",
              "      <td>891.000000</td>\n",
              "      <td>891.000000</td>\n",
              "      <td>891.000000</td>\n",
              "      <td>714.000000</td>\n",
              "      <td>891.000000</td>\n",
              "      <td>891.000000</td>\n",
              "      <td>891.000000</td>\n",
              "    </tr>\n",
              "    <tr>\n",
              "      <th>mean</th>\n",
              "      <td>446.000000</td>\n",
              "      <td>0.383838</td>\n",
              "      <td>2.308642</td>\n",
              "      <td>29.699118</td>\n",
              "      <td>0.523008</td>\n",
              "      <td>0.381594</td>\n",
              "      <td>32.204208</td>\n",
              "    </tr>\n",
              "    <tr>\n",
              "      <th>std</th>\n",
              "      <td>257.353842</td>\n",
              "      <td>0.486592</td>\n",
              "      <td>0.836071</td>\n",
              "      <td>14.526497</td>\n",
              "      <td>1.102743</td>\n",
              "      <td>0.806057</td>\n",
              "      <td>49.693429</td>\n",
              "    </tr>\n",
              "    <tr>\n",
              "      <th>min</th>\n",
              "      <td>1.000000</td>\n",
              "      <td>0.000000</td>\n",
              "      <td>1.000000</td>\n",
              "      <td>0.420000</td>\n",
              "      <td>0.000000</td>\n",
              "      <td>0.000000</td>\n",
              "      <td>0.000000</td>\n",
              "    </tr>\n",
              "    <tr>\n",
              "      <th>25%</th>\n",
              "      <td>223.500000</td>\n",
              "      <td>0.000000</td>\n",
              "      <td>2.000000</td>\n",
              "      <td>20.125000</td>\n",
              "      <td>0.000000</td>\n",
              "      <td>0.000000</td>\n",
              "      <td>7.910400</td>\n",
              "    </tr>\n",
              "    <tr>\n",
              "      <th>50%</th>\n",
              "      <td>446.000000</td>\n",
              "      <td>0.000000</td>\n",
              "      <td>3.000000</td>\n",
              "      <td>28.000000</td>\n",
              "      <td>0.000000</td>\n",
              "      <td>0.000000</td>\n",
              "      <td>14.454200</td>\n",
              "    </tr>\n",
              "    <tr>\n",
              "      <th>75%</th>\n",
              "      <td>668.500000</td>\n",
              "      <td>1.000000</td>\n",
              "      <td>3.000000</td>\n",
              "      <td>38.000000</td>\n",
              "      <td>1.000000</td>\n",
              "      <td>0.000000</td>\n",
              "      <td>31.000000</td>\n",
              "    </tr>\n",
              "    <tr>\n",
              "      <th>max</th>\n",
              "      <td>891.000000</td>\n",
              "      <td>1.000000</td>\n",
              "      <td>3.000000</td>\n",
              "      <td>80.000000</td>\n",
              "      <td>8.000000</td>\n",
              "      <td>6.000000</td>\n",
              "      <td>512.329200</td>\n",
              "    </tr>\n",
              "  </tbody>\n",
              "</table>\n",
              "</div>"
            ],
            "text/plain": [
              "       PassengerId    Survived      Pclass  ...       SibSp       Parch        Fare\n",
              "count   891.000000  891.000000  891.000000  ...  891.000000  891.000000  891.000000\n",
              "mean    446.000000    0.383838    2.308642  ...    0.523008    0.381594   32.204208\n",
              "std     257.353842    0.486592    0.836071  ...    1.102743    0.806057   49.693429\n",
              "min       1.000000    0.000000    1.000000  ...    0.000000    0.000000    0.000000\n",
              "25%     223.500000    0.000000    2.000000  ...    0.000000    0.000000    7.910400\n",
              "50%     446.000000    0.000000    3.000000  ...    0.000000    0.000000   14.454200\n",
              "75%     668.500000    1.000000    3.000000  ...    1.000000    0.000000   31.000000\n",
              "max     891.000000    1.000000    3.000000  ...    8.000000    6.000000  512.329200\n",
              "\n",
              "[8 rows x 7 columns]"
            ]
          },
          "metadata": {
            "tags": []
          },
          "execution_count": 3
        }
      ]
    },
    {
      "cell_type": "code",
      "metadata": {
        "colab": {
          "base_uri": "https://localhost:8080/"
        },
        "id": "multiple-magazine",
        "outputId": "63f02582-1620-4a37-db9a-9f2625de782a"
      },
      "source": [
        "titanic_test.shape"
      ],
      "id": "multiple-magazine",
      "execution_count": 4,
      "outputs": [
        {
          "output_type": "execute_result",
          "data": {
            "text/plain": [
              "(418, 11)"
            ]
          },
          "metadata": {
            "tags": []
          },
          "execution_count": 4
        }
      ]
    },
    {
      "cell_type": "code",
      "metadata": {
        "colab": {
          "base_uri": "https://localhost:8080/",
          "height": 255
        },
        "id": "dramatic-intro",
        "outputId": "371cbc66-f01b-4f84-eeea-1731253f219b"
      },
      "source": [
        "titanic_train.head()"
      ],
      "id": "dramatic-intro",
      "execution_count": 5,
      "outputs": [
        {
          "output_type": "execute_result",
          "data": {
            "text/html": [
              "<div>\n",
              "<style scoped>\n",
              "    .dataframe tbody tr th:only-of-type {\n",
              "        vertical-align: middle;\n",
              "    }\n",
              "\n",
              "    .dataframe tbody tr th {\n",
              "        vertical-align: top;\n",
              "    }\n",
              "\n",
              "    .dataframe thead th {\n",
              "        text-align: right;\n",
              "    }\n",
              "</style>\n",
              "<table border=\"1\" class=\"dataframe\">\n",
              "  <thead>\n",
              "    <tr style=\"text-align: right;\">\n",
              "      <th></th>\n",
              "      <th>PassengerId</th>\n",
              "      <th>Survived</th>\n",
              "      <th>Pclass</th>\n",
              "      <th>Name</th>\n",
              "      <th>Sex</th>\n",
              "      <th>Age</th>\n",
              "      <th>SibSp</th>\n",
              "      <th>Parch</th>\n",
              "      <th>Ticket</th>\n",
              "      <th>Fare</th>\n",
              "      <th>Cabin</th>\n",
              "      <th>Embarked</th>\n",
              "    </tr>\n",
              "  </thead>\n",
              "  <tbody>\n",
              "    <tr>\n",
              "      <th>0</th>\n",
              "      <td>1</td>\n",
              "      <td>0</td>\n",
              "      <td>3</td>\n",
              "      <td>Braund, Mr. Owen Harris</td>\n",
              "      <td>male</td>\n",
              "      <td>22.0</td>\n",
              "      <td>1</td>\n",
              "      <td>0</td>\n",
              "      <td>A/5 21171</td>\n",
              "      <td>7.2500</td>\n",
              "      <td>NaN</td>\n",
              "      <td>S</td>\n",
              "    </tr>\n",
              "    <tr>\n",
              "      <th>1</th>\n",
              "      <td>2</td>\n",
              "      <td>1</td>\n",
              "      <td>1</td>\n",
              "      <td>Cumings, Mrs. John Bradley (Florence Briggs Th...</td>\n",
              "      <td>female</td>\n",
              "      <td>38.0</td>\n",
              "      <td>1</td>\n",
              "      <td>0</td>\n",
              "      <td>PC 17599</td>\n",
              "      <td>71.2833</td>\n",
              "      <td>C85</td>\n",
              "      <td>C</td>\n",
              "    </tr>\n",
              "    <tr>\n",
              "      <th>2</th>\n",
              "      <td>3</td>\n",
              "      <td>1</td>\n",
              "      <td>3</td>\n",
              "      <td>Heikkinen, Miss. Laina</td>\n",
              "      <td>female</td>\n",
              "      <td>26.0</td>\n",
              "      <td>0</td>\n",
              "      <td>0</td>\n",
              "      <td>STON/O2. 3101282</td>\n",
              "      <td>7.9250</td>\n",
              "      <td>NaN</td>\n",
              "      <td>S</td>\n",
              "    </tr>\n",
              "    <tr>\n",
              "      <th>3</th>\n",
              "      <td>4</td>\n",
              "      <td>1</td>\n",
              "      <td>1</td>\n",
              "      <td>Futrelle, Mrs. Jacques Heath (Lily May Peel)</td>\n",
              "      <td>female</td>\n",
              "      <td>35.0</td>\n",
              "      <td>1</td>\n",
              "      <td>0</td>\n",
              "      <td>113803</td>\n",
              "      <td>53.1000</td>\n",
              "      <td>C123</td>\n",
              "      <td>S</td>\n",
              "    </tr>\n",
              "    <tr>\n",
              "      <th>4</th>\n",
              "      <td>5</td>\n",
              "      <td>0</td>\n",
              "      <td>3</td>\n",
              "      <td>Allen, Mr. William Henry</td>\n",
              "      <td>male</td>\n",
              "      <td>35.0</td>\n",
              "      <td>0</td>\n",
              "      <td>0</td>\n",
              "      <td>373450</td>\n",
              "      <td>8.0500</td>\n",
              "      <td>NaN</td>\n",
              "      <td>S</td>\n",
              "    </tr>\n",
              "  </tbody>\n",
              "</table>\n",
              "</div>"
            ],
            "text/plain": [
              "   PassengerId  Survived  Pclass  ...     Fare Cabin  Embarked\n",
              "0            1         0       3  ...   7.2500   NaN         S\n",
              "1            2         1       1  ...  71.2833   C85         C\n",
              "2            3         1       3  ...   7.9250   NaN         S\n",
              "3            4         1       1  ...  53.1000  C123         S\n",
              "4            5         0       3  ...   8.0500   NaN         S\n",
              "\n",
              "[5 rows x 12 columns]"
            ]
          },
          "metadata": {
            "tags": []
          },
          "execution_count": 5
        }
      ]
    },
    {
      "cell_type": "code",
      "metadata": {
        "colab": {
          "base_uri": "https://localhost:8080/",
          "height": 141
        },
        "id": "allied-manchester",
        "outputId": "75f31483-bf12-4b16-864a-72c840191032"
      },
      "source": [
        "titanic_nulls = pd.DataFrame(titanic_train.isna().sum().sort_values(ascending=False) / len(titanic_train), \n",
        "                             columns=['percent', ])\n",
        "percent_null = titanic_nulls['percent'] > 0\n",
        "titanic_nulls[percent_null]"
      ],
      "id": "allied-manchester",
      "execution_count": 6,
      "outputs": [
        {
          "output_type": "execute_result",
          "data": {
            "text/html": [
              "<div>\n",
              "<style scoped>\n",
              "    .dataframe tbody tr th:only-of-type {\n",
              "        vertical-align: middle;\n",
              "    }\n",
              "\n",
              "    .dataframe tbody tr th {\n",
              "        vertical-align: top;\n",
              "    }\n",
              "\n",
              "    .dataframe thead th {\n",
              "        text-align: right;\n",
              "    }\n",
              "</style>\n",
              "<table border=\"1\" class=\"dataframe\">\n",
              "  <thead>\n",
              "    <tr style=\"text-align: right;\">\n",
              "      <th></th>\n",
              "      <th>percent</th>\n",
              "    </tr>\n",
              "  </thead>\n",
              "  <tbody>\n",
              "    <tr>\n",
              "      <th>Cabin</th>\n",
              "      <td>0.771044</td>\n",
              "    </tr>\n",
              "    <tr>\n",
              "      <th>Age</th>\n",
              "      <td>0.198653</td>\n",
              "    </tr>\n",
              "    <tr>\n",
              "      <th>Embarked</th>\n",
              "      <td>0.002245</td>\n",
              "    </tr>\n",
              "  </tbody>\n",
              "</table>\n",
              "</div>"
            ],
            "text/plain": [
              "           percent\n",
              "Cabin     0.771044\n",
              "Age       0.198653\n",
              "Embarked  0.002245"
            ]
          },
          "metadata": {
            "tags": []
          },
          "execution_count": 6
        }
      ]
    },
    {
      "cell_type": "code",
      "metadata": {
        "colab": {
          "base_uri": "https://localhost:8080/"
        },
        "id": "combined-operator",
        "outputId": "8355acfa-182d-4764-ea07-75a4918e0fbf"
      },
      "source": [
        "titanic_train.columns"
      ],
      "id": "combined-operator",
      "execution_count": 7,
      "outputs": [
        {
          "output_type": "execute_result",
          "data": {
            "text/plain": [
              "Index(['PassengerId', 'Survived', 'Pclass', 'Name', 'Sex', 'Age', 'SibSp',\n",
              "       'Parch', 'Ticket', 'Fare', 'Cabin', 'Embarked'],\n",
              "      dtype='object')"
            ]
          },
          "metadata": {
            "tags": []
          },
          "execution_count": 7
        }
      ]
    },
    {
      "cell_type": "code",
      "metadata": {
        "colab": {
          "base_uri": "https://localhost:8080/",
          "height": 350
        },
        "id": "median-conversion",
        "outputId": "609e44bc-d873-4d96-d0ab-72f5efa0654d"
      },
      "source": [
        "survived = 'survived'\n",
        "not_survived = 'not survived'\n",
        "\n",
        "fig, axes = plt.subplots(1, 2, figsize=(15,5))\n",
        "\n",
        "females = titanic_train[titanic_train['Sex'] == 'female']\n",
        "males = titanic_train[titanic_train['Sex'] == 'male']\n",
        "\n",
        "ax = sns.histplot(females[females['Survived'] == 1].Age.dropna(), bins=20, label=survived, ax=axes[0], kde=True)\n",
        "ax = sns.histplot(females[females['Survived'] == 0].Age.dropna(), bins=20, label=not_survived, ax=axes[0], kde=True, color='orange')\n",
        "ax.set_title('Distribution of Females by Survival Outcome')\n",
        "ax.legend();\n",
        "\n",
        "ax = sns.histplot(males[males['Survived'] == 0].Age.dropna(), bins=20, label=not_survived, ax=axes[1], kde=True, color='orange')\n",
        "ax = sns.histplot(males[males['Survived'] == 1].Age.dropna(), bins=20, label=survived, ax=axes[1], kde=True)\n",
        "ax.set_title('Distribution of Males by Survival Outcome')\n",
        "ax.legend();"
      ],
      "id": "median-conversion",
      "execution_count": 8,
      "outputs": [
        {
          "output_type": "display_data",
          "data": {
            "image/png": "[encoded data removed]",
            "text/plain": [
              "<Figure size 1080x360 with 2 Axes>"
            ]
          },
          "metadata": {
            "tags": [],
            "needs_background": "light"
          }
        }
      ]
    },
    {
      "cell_type": "code",
      "metadata": {
        "colab": {
          "base_uri": "https://localhost:8080/",
          "height": 873
        },
        "id": "deluxe-hampton",
        "outputId": "65dbd49a-db04-4678-9ed1-19ac0803c850"
      },
      "source": [
        "FacetGrid = sns.FacetGrid(titanic_train, row='Embarked', height=4, aspect=2)\n",
        "\n",
        "FacetGrid.map(sns.pointplot, 'Pclass', 'Survived', 'Sex', palette='colorblind', order=None, hue_order=None)\n",
        "FacetGrid.add_legend();"
      ],
      "id": "deluxe-hampton",
      "execution_count": 9,
      "outputs": [
        {
          "output_type": "display_data",
          "data": {
            "image/png": "[encoded data removed]",
            "text/plain": [
              "<Figure size 646.5x864 with 3 Axes>"
            ]
          },
          "metadata": {
            "tags": [],
            "needs_background": "light"
          }
        }
      ]
    },
    {
      "cell_type": "code",
      "metadata": {
        "colab": {
          "base_uri": "https://localhost:8080/",
          "height": 279
        },
        "id": "boxed-hanging",
        "outputId": "68810fdf-bbaa-4849-85c8-cbfff5045fcc"
      },
      "source": [
        "sns.barplot(x='Pclass', y='Survived', data=titanic_train);"
      ],
      "id": "boxed-hanging",
      "execution_count": 10,
      "outputs": [
        {
          "output_type": "display_data",
          "data": {
            "image/png": "[encoded data removed]",
            "text/plain": [
              "<Figure size 432x288 with 1 Axes>"
            ]
          },
          "metadata": {
            "tags": [],
            "needs_background": "light"
          }
        }
      ]
    },
    {
      "cell_type": "code",
      "metadata": {
        "colab": {
          "base_uri": "https://localhost:8080/",
          "height": 441
        },
        "id": "hydraulic-disease",
        "outputId": "3d8a6378-3814-482e-ae6c-436f42f2cf8f"
      },
      "source": [
        "grid = sns.FacetGrid(titanic_train, col='Survived', row='Pclass', height=2, aspect=1.5)\n",
        "grid.map(plt.hist, 'Age', alpha=.8, bins=20)\n",
        "grid.add_legend();"
      ],
      "id": "hydraulic-disease",
      "execution_count": 11,
      "outputs": [
        {
          "output_type": "display_data",
          "data": {
            "image/png": "[encoded data removed]",
            "text/plain": [
              "<Figure size 440x432 with 6 Axes>"
            ]
          },
          "metadata": {
            "tags": [],
            "needs_background": "light"
          }
        }
      ]
    },
    {
      "cell_type": "code",
      "metadata": {
        "colab": {
          "base_uri": "https://localhost:8080/"
        },
        "id": "considered-angel",
        "outputId": "66e770f1-a4af-4fb1-e2fc-7e01b64fa325"
      },
      "source": [
        "datasets = [titanic_train, titanic_test]\n",
        "\n",
        "for data in datasets:\n",
        "    data['relatives'] = data['SibSp'] + data['Parch']\n",
        "    data.loc[data['relatives'] > 0, 'with_family'] = 0\n",
        "    data.loc[data['relatives'] == 0, 'with_family'] = 1\n",
        "    data['with_family'] = data['with_family'].astype(int)\n",
        "\n",
        "titanic_train['with_family'].value_counts()"
      ],
      "id": "considered-angel",
      "execution_count": 12,
      "outputs": [
        {
          "output_type": "execute_result",
          "data": {
            "text/plain": [
              "1    537\n",
              "0    354\n",
              "Name: with_family, dtype: int64"
            ]
          },
          "metadata": {
            "tags": []
          },
          "execution_count": 12
        }
      ]
    },
    {
      "cell_type": "code",
      "metadata": {
        "id": "therapeutic-oregon"
      },
      "source": [
        "titanic_train = titanic_train.drop(['PassengerId'], axis=1)"
      ],
      "id": "therapeutic-oregon",
      "execution_count": 13,
      "outputs": []
    },
    {
      "cell_type": "code",
      "metadata": {
        "id": "cardiac-reggae"
      },
      "source": [
        "deck = {'A': 1, 'B': 2, 'C': 3, 'D': 4, 'E': 5, 'F': 6, 'G': 7, 'U': 8}\n",
        "\n",
        "deck = {\"A\": 1, \"B\": 2, \"C\": 3, \"D\": 4, \"E\": 5, \"F\": 6, \"G\": 7, \"U\": 8}\n",
        "dfs = [titanic_train, titanic_test]\n",
        "\n",
        "for df in dfs:\n",
        "    df['Cabin'] = df['Cabin'].fillna(\"U0\")\n",
        "    df['Deck'] = df['Cabin'].map(lambda x: re.compile(\"([a-zA-Z]+)\").search(x).group())\n",
        "    df['Deck'] = df['Deck'].map(deck)\n",
        "    df['Deck'] = df['Deck'].fillna(0)\n",
        "    df['Deck'] = df['Deck'].astype(int)\n",
        "\n",
        "titanic_train = titanic_train.drop(['Cabin'], axis=1)\n",
        "titanic_test = titanic_test.drop(['Cabin'], axis=1)"
      ],
      "id": "cardiac-reggae",
      "execution_count": 14,
      "outputs": []
    },
    {
      "cell_type": "code",
      "metadata": {
        "colab": {
          "base_uri": "https://localhost:8080/"
        },
        "id": "local-salon",
        "outputId": "06e9398b-a789-49d9-ec2c-f3aaaf4b0e20"
      },
      "source": [
        "dfs = [titanic_train, titanic_test]\n",
        "\n",
        "for df in dfs:\n",
        "    mean = titanic_train['Age'].mean()\n",
        "    std = titanic_test['Age'].std()\n",
        "    is_null = df['Age'].isna().sum()\n",
        "    \n",
        "    random_age = np.random.randint(mean - std, mean + std, size=is_null)\n",
        "    \n",
        "    age_segment = df['Age'].copy()\n",
        "    age_segment[np.isnan(age_segment)] = random_age\n",
        "    df['Age'] = age_segment\n",
        "    df['Age'] = titanic_train['Age'].astype(int)\n",
        "    \n",
        "titanic_train['Age'].isna().sum()\n",
        "    "
      ],
      "id": "local-salon",
      "execution_count": 15,
      "outputs": [
        {
          "output_type": "execute_result",
          "data": {
            "text/plain": [
              "0"
            ]
          },
          "metadata": {
            "tags": []
          },
          "execution_count": 15
        }
      ]
    },
    {
      "cell_type": "code",
      "metadata": {
        "colab": {
          "base_uri": "https://localhost:8080/"
        },
        "id": "creative-possible",
        "outputId": "face2493-c014-4ab8-f778-028c599de037"
      },
      "source": [
        "titanic_train.Embarked.describe()"
      ],
      "id": "creative-possible",
      "execution_count": 16,
      "outputs": [
        {
          "output_type": "execute_result",
          "data": {
            "text/plain": [
              "count     889\n",
              "unique      3\n",
              "top         S\n",
              "freq      644\n",
              "Name: Embarked, dtype: object"
            ]
          },
          "metadata": {
            "tags": []
          },
          "execution_count": 16
        }
      ]
    },
    {
      "cell_type": "code",
      "metadata": {
        "id": "subject-discrimination"
      },
      "source": [
        "top = 'S'\n",
        "dfs = [titanic_train, titanic_test]\n",
        "\n",
        "for df in dfs:\n",
        "    df['Embarked'] = df['Embarked'].fillna(top)"
      ],
      "id": "subject-discrimination",
      "execution_count": 17,
      "outputs": []
    },
    {
      "cell_type": "code",
      "metadata": {
        "scrolled": true,
        "colab": {
          "base_uri": "https://localhost:8080/"
        },
        "id": "traditional-criminal",
        "outputId": "27271ac5-5e5a-4ba4-d1dc-8c07227e7344"
      },
      "source": [
        "titanic_train.info()"
      ],
      "id": "traditional-criminal",
      "execution_count": 18,
      "outputs": [
        {
          "output_type": "stream",
          "text": [
            "<class 'pandas.core.frame.DataFrame'>\n",
            "RangeIndex: 891 entries, 0 to 890\n",
            "Data columns (total 13 columns):\n",
            " #   Column       Non-Null Count  Dtype  \n",
            "---  ------       --------------  -----  \n",
            " 0   Survived     891 non-null    int64  \n",
            " 1   Pclass       891 non-null    int64  \n",
            " 2   Name         891 non-null    object \n",
            " 3   Sex          891 non-null    object \n",
            " 4   Age          891 non-null    int64  \n",
            " 5   SibSp        891 non-null    int64  \n",
            " 6   Parch        891 non-null    int64  \n",
            " 7   Ticket       891 non-null    object \n",
            " 8   Fare         891 non-null    float64\n",
            " 9   Embarked     891 non-null    object \n",
            " 10  relatives    891 non-null    int64  \n",
            " 11  with_family  891 non-null    int64  \n",
            " 12  Deck         891 non-null    int64  \n",
            "dtypes: float64(1), int64(8), object(4)\n",
            "memory usage: 90.6+ KB\n"
          ],
          "name": "stdout"
        }
      ]
    },
    {
      "cell_type": "code",
      "metadata": {
        "scrolled": true,
        "colab": {
          "base_uri": "https://localhost:8080/"
        },
        "id": "absent-christmas",
        "outputId": "779bda07-00df-48ef-e8aa-888f06737f67"
      },
      "source": [
        "pd.qcut(titanic_train['Age'], q=6)"
      ],
      "id": "absent-christmas",
      "execution_count": 19,
      "outputs": [
        {
          "output_type": "execute_result",
          "data": {
            "text/plain": [
              "0      (18.0, 23.0]\n",
              "1      (34.0, 41.0]\n",
              "2      (23.0, 28.0]\n",
              "3      (34.0, 41.0]\n",
              "4      (34.0, 41.0]\n",
              "           ...     \n",
              "886    (23.0, 28.0]\n",
              "887    (18.0, 23.0]\n",
              "888    (18.0, 23.0]\n",
              "889    (23.0, 28.0]\n",
              "890    (28.0, 34.0]\n",
              "Name: Age, Length: 891, dtype: category\n",
              "Categories (6, interval[float64]): [(-0.001, 18.0] < (18.0, 23.0] < (23.0, 28.0] < (28.0, 34.0] <\n",
              "                                    (34.0, 41.0] < (41.0, 80.0]]"
            ]
          },
          "metadata": {
            "tags": []
          },
          "execution_count": 19
        }
      ]
    },
    {
      "cell_type": "code",
      "metadata": {
        "colab": {
          "base_uri": "https://localhost:8080/"
        },
        "id": "needed-connecticut",
        "outputId": "2510bb62-1219-4733-ce89-c21f31a1c9e0"
      },
      "source": [
        "pd.qcut(titanic_train['Fare'], q=6, precision=2)"
      ],
      "id": "needed-connecticut",
      "execution_count": 20,
      "outputs": [
        {
          "output_type": "execute_result",
          "data": {
            "text/plain": [
              "0        (-0.01, 7.78]\n",
              "1      (52.37, 512.33]\n",
              "2         (7.78, 8.66]\n",
              "3      (52.37, 512.33]\n",
              "4         (7.78, 8.66]\n",
              "            ...       \n",
              "886      (8.66, 14.45]\n",
              "887      (26.0, 52.37]\n",
              "888      (14.45, 26.0]\n",
              "889      (26.0, 52.37]\n",
              "890      (-0.01, 7.78]\n",
              "Name: Fare, Length: 891, dtype: category\n",
              "Categories (6, interval[float64]): [(-0.01, 7.78] < (7.78, 8.66] < (8.66, 14.45] < (14.45, 26.0] <\n",
              "                                    (26.0, 52.37] < (52.37, 512.33]]"
            ]
          },
          "metadata": {
            "tags": []
          },
          "execution_count": 20
        }
      ]
    },
    {
      "cell_type": "code",
      "metadata": {
        "colab": {
          "base_uri": "https://localhost:8080/",
          "height": 265
        },
        "id": "genuine-insulation",
        "outputId": "d0039ac9-1dcc-494f-b9f3-ec92587938a2"
      },
      "source": [
        "dfs = [titanic_train, titanic_test]\n",
        "titles = {'Mr': 1, 'Miss': 2, 'Mrs': 3, 'Master': 4, 'Rare': 5}\n",
        "genders = {'male': 0, 'female': 1}\n",
        "ports = {'S': 0, 'C': 1, 'Q': 2}\n",
        "\n",
        "for df in dfs:\n",
        "    df['Fare'] = df['Fare'].fillna(0)\n",
        "    df['Fare'] = df['Fare'].astype(int)\n",
        "    df['Title'] = df.Name.str.extract('([A-Za-z]+)\\.', expand=False)\n",
        "    df['Title'] = df['Title'].replace(['Lady', 'Countess', 'Capt', \n",
        "                                       'Col', 'Don', 'Dr', 'Major', \n",
        "                                       'Rev', 'Sir', 'Jonkheer', 'Dona'], 'Rare')\n",
        "    df['Title'] = df['Title'].replace(['Mlle', 'Ms'], 'Miss')\n",
        "    df['Title'] = df['Title'].replace('Mme', 'Mrs')\n",
        "    df['Title'] = df['Title'].map(titles)\n",
        "    df['Title'] = df['Title'].fillna(0)\n",
        "    \n",
        "    df['Sex'] = df['Sex'].map(genders)\n",
        "    \n",
        "    df['Embarked'] = df['Embarked'].map(ports)\n",
        "    \n",
        "    df['Age'] = df['Age'].astype(int)\n",
        "    df.loc[df['Age'] <= 18, 'Age'] = 0\n",
        "    df.loc[(df['Age'] > 18) & (df['Age'] <= 23), 'Age'] = 1\n",
        "    df.loc[(df['Age'] > 23) & (df['Age'] <= 28), 'Age'] = 2\n",
        "    df.loc[(df['Age'] > 28) & (df['Age'] <= 34), 'Age'] = 3\n",
        "    df.loc[(df['Age'] > 34) & (df['Age'] <= 41), 'Age'] = 4\n",
        "    df.loc[(df['Age'] > 41) & (df['Age'] <= 80), 'Age'] = 5\n",
        "    \n",
        "    df.loc[df['Fare'] <= 7.78, 'Fare'] = 0\n",
        "    df.loc[(df['Fare'] > 7.78) & (df['Fare'] <= 8.66), 'Fare'] = 1\n",
        "    df.loc[(df['Fare'] > 8.66) & (df['Fare'] <= 14.45), 'Fare'] = 2\n",
        "    df.loc[(df['Fare'] > 14.45) & (df['Fare'] <= 26.0), 'Fare'] = 3\n",
        "    df.loc[(df['Fare'] > 26.0) & (df['Fare'] <= 52.37), 'Fare'] = 4\n",
        "    df.loc[(df['Fare'] > 52.37) & (df['Fare'] <= 512.33), 'Fare'] = 5\n",
        "    df.loc[df['Fare'] > 512.33, 'Fare'] = 6\n",
        "    df['Fare'] = df['Fare'].astype(int)\n",
        "\n",
        "    \n",
        "    \n",
        "\n",
        "    \n",
        "titanic_train = titanic_train.drop(['Name'], axis=1)\n",
        "titanic_test = titanic_test.drop(['Name'], axis=1)\n",
        "\n",
        "display(titanic_train['Age'].value_counts())\n",
        "display(titanic_train['Fare'].value_counts())"
      ],
      "id": "genuine-insulation",
      "execution_count": 21,
      "outputs": [
        {
          "output_type": "display_data",
          "data": {
            "text/plain": [
              "0    162\n",
              "2    150\n",
              "3    149\n",
              "5    145\n",
              "1    144\n",
              "4    141\n",
              "Name: Age, dtype: int64"
            ]
          },
          "metadata": {
            "tags": []
          }
        },
        {
          "output_type": "display_data",
          "data": {
            "text/plain": [
              "0    241\n",
              "3    165\n",
              "5    146\n",
              "2    146\n",
              "4    123\n",
              "1     70\n",
              "Name: Fare, dtype: int64"
            ]
          },
          "metadata": {
            "tags": []
          }
        }
      ]
    },
    {
      "cell_type": "code",
      "metadata": {
        "colab": {
          "base_uri": "https://localhost:8080/"
        },
        "id": "isolated-irish",
        "outputId": "72695cae-b2b1-4fd2-b4d7-71c99fdfe7a6"
      },
      "source": [
        "titanic_train.Ticket.describe()"
      ],
      "id": "isolated-irish",
      "execution_count": 22,
      "outputs": [
        {
          "output_type": "execute_result",
          "data": {
            "text/plain": [
              "count          891\n",
              "unique         681\n",
              "top       CA. 2343\n",
              "freq             7\n",
              "Name: Ticket, dtype: object"
            ]
          },
          "metadata": {
            "tags": []
          },
          "execution_count": 22
        }
      ]
    },
    {
      "cell_type": "code",
      "metadata": {
        "id": "distinguished-symphony"
      },
      "source": [
        "titanic_train.drop(['Ticket'], axis=1, inplace=True)\n",
        "titanic_test.drop(['Ticket'], axis=1, inplace=True)"
      ],
      "id": "distinguished-symphony",
      "execution_count": 23,
      "outputs": []
    },
    {
      "cell_type": "code",
      "metadata": {
        "colab": {
          "base_uri": "https://localhost:8080/",
          "height": 204
        },
        "id": "touched-hammer",
        "outputId": "10fc8de9-c9b8-40b4-b63b-ca96adad306f"
      },
      "source": [
        "titanic_train.head()"
      ],
      "id": "touched-hammer",
      "execution_count": 24,
      "outputs": [
        {
          "output_type": "execute_result",
          "data": {
            "text/html": [
              "<div>\n",
              "<style scoped>\n",
              "    .dataframe tbody tr th:only-of-type {\n",
              "        vertical-align: middle;\n",
              "    }\n",
              "\n",
              "    .dataframe tbody tr th {\n",
              "        vertical-align: top;\n",
              "    }\n",
              "\n",
              "    .dataframe thead th {\n",
              "        text-align: right;\n",
              "    }\n",
              "</style>\n",
              "<table border=\"1\" class=\"dataframe\">\n",
              "  <thead>\n",
              "    <tr style=\"text-align: right;\">\n",
              "      <th></th>\n",
              "      <th>Survived</th>\n",
              "      <th>Pclass</th>\n",
              "      <th>Sex</th>\n",
              "      <th>Age</th>\n",
              "      <th>SibSp</th>\n",
              "      <th>Parch</th>\n",
              "      <th>Fare</th>\n",
              "      <th>Embarked</th>\n",
              "      <th>relatives</th>\n",
              "      <th>with_family</th>\n",
              "      <th>Deck</th>\n",
              "      <th>Title</th>\n",
              "    </tr>\n",
              "  </thead>\n",
              "  <tbody>\n",
              "    <tr>\n",
              "      <th>0</th>\n",
              "      <td>0</td>\n",
              "      <td>3</td>\n",
              "      <td>0</td>\n",
              "      <td>1</td>\n",
              "      <td>1</td>\n",
              "      <td>0</td>\n",
              "      <td>0</td>\n",
              "      <td>0</td>\n",
              "      <td>1</td>\n",
              "      <td>0</td>\n",
              "      <td>8</td>\n",
              "      <td>1</td>\n",
              "    </tr>\n",
              "    <tr>\n",
              "      <th>1</th>\n",
              "      <td>1</td>\n",
              "      <td>1</td>\n",
              "      <td>1</td>\n",
              "      <td>4</td>\n",
              "      <td>1</td>\n",
              "      <td>0</td>\n",
              "      <td>5</td>\n",
              "      <td>1</td>\n",
              "      <td>1</td>\n",
              "      <td>0</td>\n",
              "      <td>3</td>\n",
              "      <td>3</td>\n",
              "    </tr>\n",
              "    <tr>\n",
              "      <th>2</th>\n",
              "      <td>1</td>\n",
              "      <td>3</td>\n",
              "      <td>1</td>\n",
              "      <td>2</td>\n",
              "      <td>0</td>\n",
              "      <td>0</td>\n",
              "      <td>0</td>\n",
              "      <td>0</td>\n",
              "      <td>0</td>\n",
              "      <td>1</td>\n",
              "      <td>8</td>\n",
              "      <td>2</td>\n",
              "    </tr>\n",
              "    <tr>\n",
              "      <th>3</th>\n",
              "      <td>1</td>\n",
              "      <td>1</td>\n",
              "      <td>1</td>\n",
              "      <td>4</td>\n",
              "      <td>1</td>\n",
              "      <td>0</td>\n",
              "      <td>5</td>\n",
              "      <td>0</td>\n",
              "      <td>1</td>\n",
              "      <td>0</td>\n",
              "      <td>3</td>\n",
              "      <td>3</td>\n",
              "    </tr>\n",
              "    <tr>\n",
              "      <th>4</th>\n",
              "      <td>0</td>\n",
              "      <td>3</td>\n",
              "      <td>0</td>\n",
              "      <td>4</td>\n",
              "      <td>0</td>\n",
              "      <td>0</td>\n",
              "      <td>1</td>\n",
              "      <td>0</td>\n",
              "      <td>0</td>\n",
              "      <td>1</td>\n",
              "      <td>8</td>\n",
              "      <td>1</td>\n",
              "    </tr>\n",
              "  </tbody>\n",
              "</table>\n",
              "</div>"
            ],
            "text/plain": [
              "   Survived  Pclass  Sex  Age  ...  relatives  with_family  Deck  Title\n",
              "0         0       3    0    1  ...          1            0     8      1\n",
              "1         1       1    1    4  ...          1            0     3      3\n",
              "2         1       3    1    2  ...          0            1     8      2\n",
              "3         1       1    1    4  ...          1            0     3      3\n",
              "4         0       3    0    4  ...          0            1     8      1\n",
              "\n",
              "[5 rows x 12 columns]"
            ]
          },
          "metadata": {
            "tags": []
          },
          "execution_count": 24
        }
      ]
    },
    {
      "cell_type": "code",
      "metadata": {
        "id": "hungarian-accommodation"
      },
      "source": [
        "dfs = [titanic_train, titanic_test]\n",
        "\n",
        "for df in dfs:\n",
        "    df['Age_Class'] = df['Age'] * df['Pclass']\n",
        "    \n",
        "    df['Fare_per_passenger'] = df['Fare'] / (df['relatives']+1)\n",
        "    df['Fare_per_passenger'] = df['Fare_per_passenger'].astype(int)"
      ],
      "id": "hungarian-accommodation",
      "execution_count": 25,
      "outputs": []
    },
    {
      "cell_type": "code",
      "metadata": {
        "id": "several-celtic"
      },
      "source": [
        "titanic_train.columns = titanic_train.columns.str.lower()\n",
        "titanic_test.columns = titanic_test.columns.str.lower()"
      ],
      "id": "several-celtic",
      "execution_count": 26,
      "outputs": []
    },
    {
      "cell_type": "code",
      "metadata": {
        "colab": {
          "base_uri": "https://localhost:8080/",
          "height": 448
        },
        "id": "detected-fancy",
        "outputId": "3408a93b-4ee1-4b55-f801-9174dc5e7a29"
      },
      "source": [
        "display('Titanic_Train', titanic_train.head())\n",
        "display('Titanic_Test', titanic_test.head())"
      ],
      "id": "detected-fancy",
      "execution_count": 27,
      "outputs": [
        {
          "output_type": "display_data",
          "data": {
            "application/vnd.google.colaboratory.intrinsic+json": {
              "type": "string"
            },
            "text/plain": [
              "'Titanic_Train'"
            ]
          },
          "metadata": {
            "tags": []
          }
        },
        {
          "output_type": "display_data",
          "data": {
            "text/html": [
              "<div>\n",
              "<style scoped>\n",
              "    .dataframe tbody tr th:only-of-type {\n",
              "        vertical-align: middle;\n",
              "    }\n",
              "\n",
              "    .dataframe tbody tr th {\n",
              "        vertical-align: top;\n",
              "    }\n",
              "\n",
              "    .dataframe thead th {\n",
              "        text-align: right;\n",
              "    }\n",
              "</style>\n",
              "<table border=\"1\" class=\"dataframe\">\n",
              "  <thead>\n",
              "    <tr style=\"text-align: right;\">\n",
              "      <th></th>\n",
              "      <th>survived</th>\n",
              "      <th>pclass</th>\n",
              "      <th>sex</th>\n",
              "      <th>age</th>\n",
              "      <th>sibsp</th>\n",
              "      <th>parch</th>\n",
              "      <th>fare</th>\n",
              "      <th>embarked</th>\n",
              "      <th>relatives</th>\n",
              "      <th>with_family</th>\n",
              "      <th>deck</th>\n",
              "      <th>title</th>\n",
              "      <th>age_class</th>\n",
              "      <th>fare_per_passenger</th>\n",
              "    </tr>\n",
              "  </thead>\n",
              "  <tbody>\n",
              "    <tr>\n",
              "      <th>0</th>\n",
              "      <td>0</td>\n",
              "      <td>3</td>\n",
              "      <td>0</td>\n",
              "      <td>1</td>\n",
              "      <td>1</td>\n",
              "      <td>0</td>\n",
              "      <td>0</td>\n",
              "      <td>0</td>\n",
              "      <td>1</td>\n",
              "      <td>0</td>\n",
              "      <td>8</td>\n",
              "      <td>1</td>\n",
              "      <td>3</td>\n",
              "      <td>0</td>\n",
              "    </tr>\n",
              "    <tr>\n",
              "      <th>1</th>\n",
              "      <td>1</td>\n",
              "      <td>1</td>\n",
              "      <td>1</td>\n",
              "      <td>4</td>\n",
              "      <td>1</td>\n",
              "      <td>0</td>\n",
              "      <td>5</td>\n",
              "      <td>1</td>\n",
              "      <td>1</td>\n",
              "      <td>0</td>\n",
              "      <td>3</td>\n",
              "      <td>3</td>\n",
              "      <td>4</td>\n",
              "      <td>2</td>\n",
              "    </tr>\n",
              "    <tr>\n",
              "      <th>2</th>\n",
              "      <td>1</td>\n",
              "      <td>3</td>\n",
              "      <td>1</td>\n",
              "      <td>2</td>\n",
              "      <td>0</td>\n",
              "      <td>0</td>\n",
              "      <td>0</td>\n",
              "      <td>0</td>\n",
              "      <td>0</td>\n",
              "      <td>1</td>\n",
              "      <td>8</td>\n",
              "      <td>2</td>\n",
              "      <td>6</td>\n",
              "      <td>0</td>\n",
              "    </tr>\n",
              "    <tr>\n",
              "      <th>3</th>\n",
              "      <td>1</td>\n",
              "      <td>1</td>\n",
              "      <td>1</td>\n",
              "      <td>4</td>\n",
              "      <td>1</td>\n",
              "      <td>0</td>\n",
              "      <td>5</td>\n",
              "      <td>0</td>\n",
              "      <td>1</td>\n",
              "      <td>0</td>\n",
              "      <td>3</td>\n",
              "      <td>3</td>\n",
              "      <td>4</td>\n",
              "      <td>2</td>\n",
              "    </tr>\n",
              "    <tr>\n",
              "      <th>4</th>\n",
              "      <td>0</td>\n",
              "      <td>3</td>\n",
              "      <td>0</td>\n",
              "      <td>4</td>\n",
              "      <td>0</td>\n",
              "      <td>0</td>\n",
              "      <td>1</td>\n",
              "      <td>0</td>\n",
              "      <td>0</td>\n",
              "      <td>1</td>\n",
              "      <td>8</td>\n",
              "      <td>1</td>\n",
              "      <td>12</td>\n",
              "      <td>1</td>\n",
              "    </tr>\n",
              "  </tbody>\n",
              "</table>\n",
              "</div>"
            ],
            "text/plain": [
              "   survived  pclass  sex  age  ...  deck  title  age_class  fare_per_passenger\n",
              "0         0       3    0    1  ...     8      1          3                   0\n",
              "1         1       1    1    4  ...     3      3          4                   2\n",
              "2         1       3    1    2  ...     8      2          6                   0\n",
              "3         1       1    1    4  ...     3      3          4                   2\n",
              "4         0       3    0    4  ...     8      1         12                   1\n",
              "\n",
              "[5 rows x 14 columns]"
            ]
          },
          "metadata": {
            "tags": []
          }
        },
        {
          "output_type": "display_data",
          "data": {
            "application/vnd.google.colaboratory.intrinsic+json": {
              "type": "string"
            },
            "text/plain": [
              "'Titanic_Test'"
            ]
          },
          "metadata": {
            "tags": []
          }
        },
        {
          "output_type": "display_data",
          "data": {
            "text/html": [
              "<div>\n",
              "<style scoped>\n",
              "    .dataframe tbody tr th:only-of-type {\n",
              "        vertical-align: middle;\n",
              "    }\n",
              "\n",
              "    .dataframe tbody tr th {\n",
              "        vertical-align: top;\n",
              "    }\n",
              "\n",
              "    .dataframe thead th {\n",
              "        text-align: right;\n",
              "    }\n",
              "</style>\n",
              "<table border=\"1\" class=\"dataframe\">\n",
              "  <thead>\n",
              "    <tr style=\"text-align: right;\">\n",
              "      <th></th>\n",
              "      <th>passengerid</th>\n",
              "      <th>pclass</th>\n",
              "      <th>sex</th>\n",
              "      <th>age</th>\n",
              "      <th>sibsp</th>\n",
              "      <th>parch</th>\n",
              "      <th>fare</th>\n",
              "      <th>embarked</th>\n",
              "      <th>relatives</th>\n",
              "      <th>with_family</th>\n",
              "      <th>deck</th>\n",
              "      <th>title</th>\n",
              "      <th>age_class</th>\n",
              "      <th>fare_per_passenger</th>\n",
              "    </tr>\n",
              "  </thead>\n",
              "  <tbody>\n",
              "    <tr>\n",
              "      <th>0</th>\n",
              "      <td>892</td>\n",
              "      <td>3</td>\n",
              "      <td>0</td>\n",
              "      <td>1</td>\n",
              "      <td>0</td>\n",
              "      <td>0</td>\n",
              "      <td>0</td>\n",
              "      <td>2</td>\n",
              "      <td>0</td>\n",
              "      <td>1</td>\n",
              "      <td>8</td>\n",
              "      <td>1</td>\n",
              "      <td>3</td>\n",
              "      <td>0</td>\n",
              "    </tr>\n",
              "    <tr>\n",
              "      <th>1</th>\n",
              "      <td>893</td>\n",
              "      <td>3</td>\n",
              "      <td>1</td>\n",
              "      <td>4</td>\n",
              "      <td>1</td>\n",
              "      <td>0</td>\n",
              "      <td>0</td>\n",
              "      <td>0</td>\n",
              "      <td>1</td>\n",
              "      <td>0</td>\n",
              "      <td>8</td>\n",
              "      <td>3</td>\n",
              "      <td>12</td>\n",
              "      <td>0</td>\n",
              "    </tr>\n",
              "    <tr>\n",
              "      <th>2</th>\n",
              "      <td>894</td>\n",
              "      <td>2</td>\n",
              "      <td>0</td>\n",
              "      <td>2</td>\n",
              "      <td>0</td>\n",
              "      <td>0</td>\n",
              "      <td>2</td>\n",
              "      <td>2</td>\n",
              "      <td>0</td>\n",
              "      <td>1</td>\n",
              "      <td>8</td>\n",
              "      <td>1</td>\n",
              "      <td>4</td>\n",
              "      <td>2</td>\n",
              "    </tr>\n",
              "    <tr>\n",
              "      <th>3</th>\n",
              "      <td>895</td>\n",
              "      <td>3</td>\n",
              "      <td>0</td>\n",
              "      <td>4</td>\n",
              "      <td>0</td>\n",
              "      <td>0</td>\n",
              "      <td>1</td>\n",
              "      <td>0</td>\n",
              "      <td>0</td>\n",
              "      <td>1</td>\n",
              "      <td>8</td>\n",
              "      <td>1</td>\n",
              "      <td>12</td>\n",
              "      <td>1</td>\n",
              "    </tr>\n",
              "    <tr>\n",
              "      <th>4</th>\n",
              "      <td>896</td>\n",
              "      <td>3</td>\n",
              "      <td>1</td>\n",
              "      <td>4</td>\n",
              "      <td>1</td>\n",
              "      <td>1</td>\n",
              "      <td>2</td>\n",
              "      <td>0</td>\n",
              "      <td>2</td>\n",
              "      <td>0</td>\n",
              "      <td>8</td>\n",
              "      <td>3</td>\n",
              "      <td>12</td>\n",
              "      <td>0</td>\n",
              "    </tr>\n",
              "  </tbody>\n",
              "</table>\n",
              "</div>"
            ],
            "text/plain": [
              "   passengerid  pclass  sex  age  ...  deck  title  age_class  fare_per_passenger\n",
              "0          892       3    0    1  ...     8      1          3                   0\n",
              "1          893       3    1    4  ...     8      3         12                   0\n",
              "2          894       2    0    2  ...     8      1          4                   2\n",
              "3          895       3    0    4  ...     8      1         12                   1\n",
              "4          896       3    1    4  ...     8      3         12                   0\n",
              "\n",
              "[5 rows x 14 columns]"
            ]
          },
          "metadata": {
            "tags": []
          }
        }
      ]
    },
    {
      "cell_type": "code",
      "metadata": {
        "id": "changing-stereo"
      },
      "source": [
        "X_train = titanic_train.drop('survived', axis=1)\n",
        "y_train = titanic_train['survived']\n",
        "\n",
        "X_test = titanic_test.drop('passengerid', axis=1).copy()"
      ],
      "id": "changing-stereo",
      "execution_count": 28,
      "outputs": []
    },
    {
      "cell_type": "code",
      "metadata": {
        "id": "measured-gibraltar"
      },
      "source": [
        "sgd = linear_model.SGDClassifier(max_iter=5, tol=None)\n",
        "sgd.fit(X_train, y_train)\n",
        "y_pred = sgd.predict(X_test)\n",
        "\n",
        "accuracy_sgd = round(sgd.score(X_train, y_train) * 100, 2)"
      ],
      "id": "measured-gibraltar",
      "execution_count": 29,
      "outputs": []
    },
    {
      "cell_type": "code",
      "metadata": {
        "id": "blank-polyester"
      },
      "source": [
        "random_forest = RandomForestClassifier(n_estimators=100)\n",
        "random_forest.fit(X_train, y_train)\n",
        "y_pred = random_forest.predict(X_test)\n",
        "\n",
        "accuracy_random_forest = round(random_forest.score(X_train, y_train) * 100, 2)"
      ],
      "id": "blank-polyester",
      "execution_count": 30,
      "outputs": []
    },
    {
      "cell_type": "code",
      "metadata": {
        "id": "multiple-canyon"
      },
      "source": [
        "logreg = LogisticRegression()\n",
        "logreg.fit(X_train, y_train)\n",
        "y_pred = logreg.predict(X_test)\n",
        "\n",
        "accuracy_logreg = round(logreg.score(X_train, y_train) * 100, 2)"
      ],
      "id": "multiple-canyon",
      "execution_count": 31,
      "outputs": []
    },
    {
      "cell_type": "code",
      "metadata": {
        "id": "alone-andrew"
      },
      "source": [
        "knn = KNeighborsClassifier(n_neighbors=3)\n",
        "knn.fit(X_train, y_train)\n",
        "y_pred = knn.predict(X_test)\n",
        "\n",
        "accuracy_knn = round(knn.score(X_train, y_train) * 100, 2)"
      ],
      "id": "alone-andrew",
      "execution_count": 32,
      "outputs": []
    },
    {
      "cell_type": "code",
      "metadata": {
        "id": "effective-hollywood"
      },
      "source": [
        "gauss = GaussianNB()\n",
        "gauss.fit(X_train, y_train)\n",
        "y_pred = gauss.predict(X_test)\n",
        "\n",
        "accuracy_gauss = round(gauss.score(X_train, y_train) * 100, 2)"
      ],
      "id": "effective-hollywood",
      "execution_count": 33,
      "outputs": []
    },
    {
      "cell_type": "code",
      "metadata": {
        "id": "tracked-supplier"
      },
      "source": [
        "decision_tree = DecisionTreeClassifier()\n",
        "decision_tree.fit(X_train, y_train)\n",
        "y_pred = decision_tree.predict(X_test)\n",
        "\n",
        "accuracy_decision_tree = round(decision_tree.score(X_train, y_train) * 100, 2)"
      ],
      "id": "tracked-supplier",
      "execution_count": 34,
      "outputs": []
    },
    {
      "cell_type": "code",
      "metadata": {
        "scrolled": true,
        "id": "random-court"
      },
      "source": [
        "xgb_classifier = xgb.XGBClassifier()\n",
        "xgb_classifier.fit(X_train, y_train)\n",
        "y_pred = xgb_classifier.predict(X_test)\n",
        "\n",
        "accuracy_xgb_classifier = round(xgb_classifier.score(X_train, y_train) * 100, 2)"
      ],
      "id": "random-court",
      "execution_count": 35,
      "outputs": []
    },
    {
      "cell_type": "code",
      "metadata": {
        "id": "available-banking"
      },
      "source": [
        "xgb_rf = xgb.XGBRFClassifier(random_state=42)\n",
        "xgb_rf.fit(X_train, y_train)\n",
        "y_pred = xgb_rf.predict(X_test)\n",
        "\n",
        "accuracy_xgb_rf = round(xgb_rf.score(X_train, y_train) * 100, 2)"
      ],
      "id": "available-banking",
      "execution_count": 36,
      "outputs": []
    },
    {
      "cell_type": "code",
      "metadata": {
        "colab": {
          "base_uri": "https://localhost:8080/",
          "height": 265
        },
        "id": "powerful-munich",
        "outputId": "4b86d25f-6433-4e64-bb95-28ca67a1c89f"
      },
      "source": [
        "results = pd.DataFrame(\n",
        "    {'Model': ['Stochastic Gradient Descent', 'Random Forest', 'Logistic Regression', 'KNN', \n",
        "               'Naive Bayes', 'Decision Tree', 'XGBoost', 'XGBoost w/ Random Forest'],\n",
        "     'Score': [accuracy_sgd, accuracy_random_forest, accuracy_logreg, accuracy_knn,\n",
        "               accuracy_gauss, accuracy_decision_tree, accuracy_xgb_classifier, accuracy_xgb_rf]})\n",
        "\n",
        "results = results.sort_values(by='Score', ascending=False).set_index('Score')\n",
        "results.head(6)"
      ],
      "id": "powerful-munich",
      "execution_count": 37,
      "outputs": [
        {
          "output_type": "execute_result",
          "data": {
            "text/html": [
              "<div>\n",
              "<style scoped>\n",
              "    .dataframe tbody tr th:only-of-type {\n",
              "        vertical-align: middle;\n",
              "    }\n",
              "\n",
              "    .dataframe tbody tr th {\n",
              "        vertical-align: top;\n",
              "    }\n",
              "\n",
              "    .dataframe thead th {\n",
              "        text-align: right;\n",
              "    }\n",
              "</style>\n",
              "<table border=\"1\" class=\"dataframe\">\n",
              "  <thead>\n",
              "    <tr style=\"text-align: right;\">\n",
              "      <th></th>\n",
              "      <th>Model</th>\n",
              "    </tr>\n",
              "    <tr>\n",
              "      <th>Score</th>\n",
              "      <th></th>\n",
              "    </tr>\n",
              "  </thead>\n",
              "  <tbody>\n",
              "    <tr>\n",
              "      <th>92.93</th>\n",
              "      <td>Random Forest</td>\n",
              "    </tr>\n",
              "    <tr>\n",
              "      <th>92.93</th>\n",
              "      <td>Decision Tree</td>\n",
              "    </tr>\n",
              "    <tr>\n",
              "      <th>87.21</th>\n",
              "      <td>KNN</td>\n",
              "    </tr>\n",
              "    <tr>\n",
              "      <th>86.64</th>\n",
              "      <td>XGBoost</td>\n",
              "    </tr>\n",
              "    <tr>\n",
              "      <th>83.61</th>\n",
              "      <td>XGBoost w/ Random Forest</td>\n",
              "    </tr>\n",
              "    <tr>\n",
              "      <th>81.26</th>\n",
              "      <td>Logistic Regression</td>\n",
              "    </tr>\n",
              "  </tbody>\n",
              "</table>\n",
              "</div>"
            ],
            "text/plain": [
              "                          Model\n",
              "Score                          \n",
              "92.93             Random Forest\n",
              "92.93             Decision Tree\n",
              "87.21                       KNN\n",
              "86.64                   XGBoost\n",
              "83.61  XGBoost w/ Random Forest\n",
              "81.26       Logistic Regression"
            ]
          },
          "metadata": {
            "tags": []
          },
          "execution_count": 37
        }
      ]
    },
    {
      "cell_type": "code",
      "metadata": {
        "colab": {
          "base_uri": "https://localhost:8080/",
          "height": 176
        },
        "id": "signal-great",
        "outputId": "b30a0bbe-129a-447a-ba9e-13be57504576"
      },
      "source": [
        "clf = RandomForestClassifier()\n",
        "\n",
        "param_grid = {'n_estimators': [5, 10, 15, 20, 25, 30, 35, 40, 45, 50],\n",
        "              'max_depth': [2, 3, 4, 5, 6, 7, 8, 9, 10]}\n",
        "\n",
        "grid_clf = GridSearchCV(clf, param_grid, cv=10)\n",
        "grid_clf.fit(X_train, y_train)\n",
        "\n",
        "display(grid_clf.best_estimator_)\n",
        "display(grid_clf.best_params_)"
      ],
      "id": "signal-great",
      "execution_count": 38,
      "outputs": [
        {
          "output_type": "display_data",
          "data": {
            "text/plain": [
              "RandomForestClassifier(bootstrap=True, ccp_alpha=0.0, class_weight=None,\n",
              "                       criterion='gini', max_depth=6, max_features='auto',\n",
              "                       max_leaf_nodes=None, max_samples=None,\n",
              "                       min_impurity_decrease=0.0, min_impurity_split=None,\n",
              "                       min_samples_leaf=1, min_samples_split=2,\n",
              "                       min_weight_fraction_leaf=0.0, n_estimators=25,\n",
              "                       n_jobs=None, oob_score=False, random_state=None,\n",
              "                       verbose=0, warm_start=False)"
            ]
          },
          "metadata": {
            "tags": []
          }
        },
        {
          "output_type": "display_data",
          "data": {
            "text/plain": [
              "{'max_depth': 6, 'n_estimators': 25}"
            ]
          },
          "metadata": {
            "tags": []
          }
        }
      ]
    },
    {
      "cell_type": "code",
      "metadata": {
        "colab": {
          "base_uri": "https://localhost:8080/",
          "height": 407
        },
        "id": "elementary-sacrifice",
        "outputId": "e2578fef-e068-4f8e-a5bd-b16a552d2c83"
      },
      "source": [
        "clf = RandomForestClassifier(max_depth=6, n_estimators=25)\n",
        "clf.fit(X_train, y_train)\n",
        "clf.predict(X_test)\n",
        "\n",
        "feature_importances = pd.DataFrame({'feature': X_train.columns, \n",
        "                                    'importance': np.round(clf.feature_importances_,3)})\n",
        "\n",
        "feature_importances = feature_importances.sort_values('importance', ascending=False).set_index('feature')\n",
        "\n",
        "accuracy_clf = round(clf.score(X_train, y_train)*100, 2)\n",
        "print('Accuracy Score:', accuracy_clf)\n",
        "feature_importances.head(15)"
      ],
      "id": "elementary-sacrifice",
      "execution_count": 42,
      "outputs": [
        {
          "output_type": "stream",
          "text": [
            "Accuracy Score: 87.32\n"
          ],
          "name": "stdout"
        },
        {
          "output_type": "execute_result",
          "data": {
            "text/html": [
              "<div>\n",
              "<style scoped>\n",
              "    .dataframe tbody tr th:only-of-type {\n",
              "        vertical-align: middle;\n",
              "    }\n",
              "\n",
              "    .dataframe tbody tr th {\n",
              "        vertical-align: top;\n",
              "    }\n",
              "\n",
              "    .dataframe thead th {\n",
              "        text-align: right;\n",
              "    }\n",
              "</style>\n",
              "<table border=\"1\" class=\"dataframe\">\n",
              "  <thead>\n",
              "    <tr style=\"text-align: right;\">\n",
              "      <th></th>\n",
              "      <th>importance</th>\n",
              "    </tr>\n",
              "    <tr>\n",
              "      <th>feature</th>\n",
              "      <th></th>\n",
              "    </tr>\n",
              "  </thead>\n",
              "  <tbody>\n",
              "    <tr>\n",
              "      <th>sex</th>\n",
              "      <td>0.258</td>\n",
              "    </tr>\n",
              "    <tr>\n",
              "      <th>title</th>\n",
              "      <td>0.257</td>\n",
              "    </tr>\n",
              "    <tr>\n",
              "      <th>pclass</th>\n",
              "      <td>0.100</td>\n",
              "    </tr>\n",
              "    <tr>\n",
              "      <th>fare</th>\n",
              "      <td>0.078</td>\n",
              "    </tr>\n",
              "    <tr>\n",
              "      <th>relatives</th>\n",
              "      <td>0.065</td>\n",
              "    </tr>\n",
              "    <tr>\n",
              "      <th>deck</th>\n",
              "      <td>0.061</td>\n",
              "    </tr>\n",
              "    <tr>\n",
              "      <th>fare_per_passenger</th>\n",
              "      <td>0.060</td>\n",
              "    </tr>\n",
              "    <tr>\n",
              "      <th>age_class</th>\n",
              "      <td>0.053</td>\n",
              "    </tr>\n",
              "    <tr>\n",
              "      <th>sibsp</th>\n",
              "      <td>0.040</td>\n",
              "    </tr>\n",
              "    <tr>\n",
              "      <th>age</th>\n",
              "      <td>0.029</td>\n",
              "    </tr>\n",
              "  </tbody>\n",
              "</table>\n",
              "</div>"
            ],
            "text/plain": [
              "                    importance\n",
              "feature                       \n",
              "sex                      0.258\n",
              "title                    0.257\n",
              "pclass                   0.100\n",
              "fare                     0.078\n",
              "relatives                0.065\n",
              "deck                     0.061\n",
              "fare_per_passenger       0.060\n",
              "age_class                0.053\n",
              "sibsp                    0.040\n",
              "age                      0.029"
            ]
          },
          "metadata": {
            "tags": []
          },
          "execution_count": 42
        }
      ]
    },
    {
      "cell_type": "code",
      "metadata": {
        "colab": {
          "base_uri": "https://localhost:8080/",
          "height": 386
        },
        "id": "physical-designation",
        "outputId": "4002d8b3-111b-430d-d67a-4d51e7a2ecee"
      },
      "source": [
        "titanic_train = titanic_train.drop(columns=['embarked', 'parch', 'with_family'])\n",
        "titanic_test = titanic_test.drop(columns=['embarked', 'parch', 'with_family'])\n",
        "\n",
        "X_train = titanic_train.drop('survived', axis=1)\n",
        "y_train = titanic_train['survived']\n",
        "\n",
        "X_test = titanic_test.drop('passengerid', axis=1).copy()"
      ],
      "id": "physical-designation",
      "execution_count": 43,
      "outputs": [
        {
          "output_type": "error",
          "ename": "KeyError",
          "evalue": "ignored",
          "traceback": [
            "\u001b[0;31m---------------------------------------------------------------------------\u001b[0m",
            "\u001b[0;31mKeyError\u001b[0m                                  Traceback (most recent call last)",
            "\u001b[0;32m<ipython-input-43-700a364989b0>\u001b[0m in \u001b[0;36m<module>\u001b[0;34m()\u001b[0m\n\u001b[0;32m----> 1\u001b[0;31m \u001b[0mtitanic_train\u001b[0m \u001b[0;34m=\u001b[0m \u001b[0mtitanic_train\u001b[0m\u001b[0;34m.\u001b[0m\u001b[0mdrop\u001b[0m\u001b[0;34m(\u001b[0m\u001b[0mcolumns\u001b[0m\u001b[0;34m=\u001b[0m\u001b[0;34m[\u001b[0m\u001b[0;34m'embarked'\u001b[0m\u001b[0;34m,\u001b[0m \u001b[0;34m'parch'\u001b[0m\u001b[0;34m,\u001b[0m \u001b[0;34m'with_family'\u001b[0m\u001b[0;34m]\u001b[0m\u001b[0;34m)\u001b[0m\u001b[0;34m\u001b[0m\u001b[0;34m\u001b[0m\u001b[0m\n\u001b[0m\u001b[1;32m      2\u001b[0m \u001b[0mtitanic_test\u001b[0m \u001b[0;34m=\u001b[0m \u001b[0mtitanic_test\u001b[0m\u001b[0;34m.\u001b[0m\u001b[0mdrop\u001b[0m\u001b[0;34m(\u001b[0m\u001b[0mcolumns\u001b[0m\u001b[0;34m=\u001b[0m\u001b[0;34m[\u001b[0m\u001b[0;34m'embarked'\u001b[0m\u001b[0;34m,\u001b[0m \u001b[0;34m'parch'\u001b[0m\u001b[0;34m,\u001b[0m \u001b[0;34m'with_family'\u001b[0m\u001b[0;34m]\u001b[0m\u001b[0;34m)\u001b[0m\u001b[0;34m\u001b[0m\u001b[0;34m\u001b[0m\u001b[0m\n\u001b[1;32m      3\u001b[0m \u001b[0;34m\u001b[0m\u001b[0m\n\u001b[1;32m      4\u001b[0m \u001b[0mX_train\u001b[0m \u001b[0;34m=\u001b[0m \u001b[0mtitanic_train\u001b[0m\u001b[0;34m.\u001b[0m\u001b[0mdrop\u001b[0m\u001b[0;34m(\u001b[0m\u001b[0;34m'survived'\u001b[0m\u001b[0;34m,\u001b[0m \u001b[0maxis\u001b[0m\u001b[0;34m=\u001b[0m\u001b[0;36m1\u001b[0m\u001b[0;34m)\u001b[0m\u001b[0;34m\u001b[0m\u001b[0;34m\u001b[0m\u001b[0m\n\u001b[1;32m      5\u001b[0m \u001b[0my_train\u001b[0m \u001b[0;34m=\u001b[0m \u001b[0mtitanic_train\u001b[0m\u001b[0;34m[\u001b[0m\u001b[0;34m'survived'\u001b[0m\u001b[0;34m]\u001b[0m\u001b[0;34m\u001b[0m\u001b[0;34m\u001b[0m\u001b[0m\n",
            "\u001b[0;32m/usr/local/lib/python3.7/dist-packages/pandas/core/frame.py\u001b[0m in \u001b[0;36mdrop\u001b[0;34m(self, labels, axis, index, columns, level, inplace, errors)\u001b[0m\n\u001b[1;32m   4172\u001b[0m             \u001b[0mlevel\u001b[0m\u001b[0;34m=\u001b[0m\u001b[0mlevel\u001b[0m\u001b[0;34m,\u001b[0m\u001b[0;34m\u001b[0m\u001b[0;34m\u001b[0m\u001b[0m\n\u001b[1;32m   4173\u001b[0m             \u001b[0minplace\u001b[0m\u001b[0;34m=\u001b[0m\u001b[0minplace\u001b[0m\u001b[0;34m,\u001b[0m\u001b[0;34m\u001b[0m\u001b[0;34m\u001b[0m\u001b[0m\n\u001b[0;32m-> 4174\u001b[0;31m             \u001b[0merrors\u001b[0m\u001b[0;34m=\u001b[0m\u001b[0merrors\u001b[0m\u001b[0;34m,\u001b[0m\u001b[0;34m\u001b[0m\u001b[0;34m\u001b[0m\u001b[0m\n\u001b[0m\u001b[1;32m   4175\u001b[0m         )\n\u001b[1;32m   4176\u001b[0m \u001b[0;34m\u001b[0m\u001b[0m\n",
            "\u001b[0;32m/usr/local/lib/python3.7/dist-packages/pandas/core/generic.py\u001b[0m in \u001b[0;36mdrop\u001b[0;34m(self, labels, axis, index, columns, level, inplace, errors)\u001b[0m\n\u001b[1;32m   3887\u001b[0m         \u001b[0;32mfor\u001b[0m \u001b[0maxis\u001b[0m\u001b[0;34m,\u001b[0m \u001b[0mlabels\u001b[0m \u001b[0;32min\u001b[0m \u001b[0maxes\u001b[0m\u001b[0;34m.\u001b[0m\u001b[0mitems\u001b[0m\u001b[0;34m(\u001b[0m\u001b[0;34m)\u001b[0m\u001b[0;34m:\u001b[0m\u001b[0;34m\u001b[0m\u001b[0;34m\u001b[0m\u001b[0m\n\u001b[1;32m   3888\u001b[0m             \u001b[0;32mif\u001b[0m \u001b[0mlabels\u001b[0m \u001b[0;32mis\u001b[0m \u001b[0;32mnot\u001b[0m \u001b[0;32mNone\u001b[0m\u001b[0;34m:\u001b[0m\u001b[0;34m\u001b[0m\u001b[0;34m\u001b[0m\u001b[0m\n\u001b[0;32m-> 3889\u001b[0;31m                 \u001b[0mobj\u001b[0m \u001b[0;34m=\u001b[0m \u001b[0mobj\u001b[0m\u001b[0;34m.\u001b[0m\u001b[0m_drop_axis\u001b[0m\u001b[0;34m(\u001b[0m\u001b[0mlabels\u001b[0m\u001b[0;34m,\u001b[0m \u001b[0maxis\u001b[0m\u001b[0;34m,\u001b[0m \u001b[0mlevel\u001b[0m\u001b[0;34m=\u001b[0m\u001b[0mlevel\u001b[0m\u001b[0;34m,\u001b[0m \u001b[0merrors\u001b[0m\u001b[0;34m=\u001b[0m\u001b[0merrors\u001b[0m\u001b[0;34m)\u001b[0m\u001b[0;34m\u001b[0m\u001b[0;34m\u001b[0m\u001b[0m\n\u001b[0m\u001b[1;32m   3890\u001b[0m \u001b[0;34m\u001b[0m\u001b[0m\n\u001b[1;32m   3891\u001b[0m         \u001b[0;32mif\u001b[0m \u001b[0minplace\u001b[0m\u001b[0;34m:\u001b[0m\u001b[0;34m\u001b[0m\u001b[0;34m\u001b[0m\u001b[0m\n",
            "\u001b[0;32m/usr/local/lib/python3.7/dist-packages/pandas/core/generic.py\u001b[0m in \u001b[0;36m_drop_axis\u001b[0;34m(self, labels, axis, level, errors)\u001b[0m\n\u001b[1;32m   3921\u001b[0m                 \u001b[0mnew_axis\u001b[0m \u001b[0;34m=\u001b[0m \u001b[0maxis\u001b[0m\u001b[0;34m.\u001b[0m\u001b[0mdrop\u001b[0m\u001b[0;34m(\u001b[0m\u001b[0mlabels\u001b[0m\u001b[0;34m,\u001b[0m \u001b[0mlevel\u001b[0m\u001b[0;34m=\u001b[0m\u001b[0mlevel\u001b[0m\u001b[0;34m,\u001b[0m \u001b[0merrors\u001b[0m\u001b[0;34m=\u001b[0m\u001b[0merrors\u001b[0m\u001b[0;34m)\u001b[0m\u001b[0;34m\u001b[0m\u001b[0;34m\u001b[0m\u001b[0m\n\u001b[1;32m   3922\u001b[0m             \u001b[0;32melse\u001b[0m\u001b[0;34m:\u001b[0m\u001b[0;34m\u001b[0m\u001b[0;34m\u001b[0m\u001b[0m\n\u001b[0;32m-> 3923\u001b[0;31m                 \u001b[0mnew_axis\u001b[0m \u001b[0;34m=\u001b[0m \u001b[0maxis\u001b[0m\u001b[0;34m.\u001b[0m\u001b[0mdrop\u001b[0m\u001b[0;34m(\u001b[0m\u001b[0mlabels\u001b[0m\u001b[0;34m,\u001b[0m \u001b[0merrors\u001b[0m\u001b[0;34m=\u001b[0m\u001b[0merrors\u001b[0m\u001b[0;34m)\u001b[0m\u001b[0;34m\u001b[0m\u001b[0;34m\u001b[0m\u001b[0m\n\u001b[0m\u001b[1;32m   3924\u001b[0m             \u001b[0mresult\u001b[0m \u001b[0;34m=\u001b[0m \u001b[0mself\u001b[0m\u001b[0;34m.\u001b[0m\u001b[0mreindex\u001b[0m\u001b[0;34m(\u001b[0m\u001b[0;34m**\u001b[0m\u001b[0;34m{\u001b[0m\u001b[0maxis_name\u001b[0m\u001b[0;34m:\u001b[0m \u001b[0mnew_axis\u001b[0m\u001b[0;34m}\u001b[0m\u001b[0;34m)\u001b[0m\u001b[0;34m\u001b[0m\u001b[0;34m\u001b[0m\u001b[0m\n\u001b[1;32m   3925\u001b[0m \u001b[0;34m\u001b[0m\u001b[0m\n",
            "\u001b[0;32m/usr/local/lib/python3.7/dist-packages/pandas/core/indexes/base.py\u001b[0m in \u001b[0;36mdrop\u001b[0;34m(self, labels, errors)\u001b[0m\n\u001b[1;32m   5285\u001b[0m         \u001b[0;32mif\u001b[0m \u001b[0mmask\u001b[0m\u001b[0;34m.\u001b[0m\u001b[0many\u001b[0m\u001b[0;34m(\u001b[0m\u001b[0;34m)\u001b[0m\u001b[0;34m:\u001b[0m\u001b[0;34m\u001b[0m\u001b[0;34m\u001b[0m\u001b[0m\n\u001b[1;32m   5286\u001b[0m             \u001b[0;32mif\u001b[0m \u001b[0merrors\u001b[0m \u001b[0;34m!=\u001b[0m \u001b[0;34m\"ignore\"\u001b[0m\u001b[0;34m:\u001b[0m\u001b[0;34m\u001b[0m\u001b[0;34m\u001b[0m\u001b[0m\n\u001b[0;32m-> 5287\u001b[0;31m                 \u001b[0;32mraise\u001b[0m \u001b[0mKeyError\u001b[0m\u001b[0;34m(\u001b[0m\u001b[0;34mf\"{labels[mask]} not found in axis\"\u001b[0m\u001b[0;34m)\u001b[0m\u001b[0;34m\u001b[0m\u001b[0;34m\u001b[0m\u001b[0m\n\u001b[0m\u001b[1;32m   5288\u001b[0m             \u001b[0mindexer\u001b[0m \u001b[0;34m=\u001b[0m \u001b[0mindexer\u001b[0m\u001b[0;34m[\u001b[0m\u001b[0;34m~\u001b[0m\u001b[0mmask\u001b[0m\u001b[0;34m]\u001b[0m\u001b[0;34m\u001b[0m\u001b[0;34m\u001b[0m\u001b[0m\n\u001b[1;32m   5289\u001b[0m         \u001b[0;32mreturn\u001b[0m \u001b[0mself\u001b[0m\u001b[0;34m.\u001b[0m\u001b[0mdelete\u001b[0m\u001b[0;34m(\u001b[0m\u001b[0mindexer\u001b[0m\u001b[0;34m)\u001b[0m\u001b[0;34m\u001b[0m\u001b[0;34m\u001b[0m\u001b[0m\n",
            "\u001b[0;31mKeyError\u001b[0m: \"['embarked' 'parch' 'with_family'] not found in axis\""
          ]
        }
      ]
    },
    {
      "cell_type": "code",
      "metadata": {
        "colab": {
          "base_uri": "https://localhost:8080/",
          "height": 407
        },
        "id": "forced-shelf",
        "outputId": "0e19cd84-cb8c-4fcb-ec2e-970a455606e7"
      },
      "source": [
        "clf = RandomForestClassifier(max_depth=7, n_estimators=35)\n",
        "clf.fit(X_train, y_train)\n",
        "clf.predict(X_test)\n",
        "\n",
        "feature_importances = pd.DataFrame({'feature': X_train.columns, \n",
        "                                    'importance': np.round(clf.feature_importances_,3)})\n",
        "\n",
        "feature_importances = feature_importances.sort_values('importance', ascending=False).set_index('feature')\n",
        "\n",
        "accuracy_clf = round(clf.score(X_train, y_train)*100, 2)\n",
        "print('Accuracy Score:', accuracy_clf)\n",
        "feature_importances.head(15)"
      ],
      "id": "forced-shelf",
      "execution_count": 44,
      "outputs": [
        {
          "output_type": "stream",
          "text": [
            "Accuracy Score: 87.54\n"
          ],
          "name": "stdout"
        },
        {
          "output_type": "execute_result",
          "data": {
            "text/html": [
              "<div>\n",
              "<style scoped>\n",
              "    .dataframe tbody tr th:only-of-type {\n",
              "        vertical-align: middle;\n",
              "    }\n",
              "\n",
              "    .dataframe tbody tr th {\n",
              "        vertical-align: top;\n",
              "    }\n",
              "\n",
              "    .dataframe thead th {\n",
              "        text-align: right;\n",
              "    }\n",
              "</style>\n",
              "<table border=\"1\" class=\"dataframe\">\n",
              "  <thead>\n",
              "    <tr style=\"text-align: right;\">\n",
              "      <th></th>\n",
              "      <th>importance</th>\n",
              "    </tr>\n",
              "    <tr>\n",
              "      <th>feature</th>\n",
              "      <th></th>\n",
              "    </tr>\n",
              "  </thead>\n",
              "  <tbody>\n",
              "    <tr>\n",
              "      <th>title</th>\n",
              "      <td>0.257</td>\n",
              "    </tr>\n",
              "    <tr>\n",
              "      <th>sex</th>\n",
              "      <td>0.235</td>\n",
              "    </tr>\n",
              "    <tr>\n",
              "      <th>pclass</th>\n",
              "      <td>0.100</td>\n",
              "    </tr>\n",
              "    <tr>\n",
              "      <th>relatives</th>\n",
              "      <td>0.082</td>\n",
              "    </tr>\n",
              "    <tr>\n",
              "      <th>deck</th>\n",
              "      <td>0.082</td>\n",
              "    </tr>\n",
              "    <tr>\n",
              "      <th>fare</th>\n",
              "      <td>0.063</td>\n",
              "    </tr>\n",
              "    <tr>\n",
              "      <th>age_class</th>\n",
              "      <td>0.055</td>\n",
              "    </tr>\n",
              "    <tr>\n",
              "      <th>fare_per_passenger</th>\n",
              "      <td>0.055</td>\n",
              "    </tr>\n",
              "    <tr>\n",
              "      <th>age</th>\n",
              "      <td>0.038</td>\n",
              "    </tr>\n",
              "    <tr>\n",
              "      <th>sibsp</th>\n",
              "      <td>0.033</td>\n",
              "    </tr>\n",
              "  </tbody>\n",
              "</table>\n",
              "</div>"
            ],
            "text/plain": [
              "                    importance\n",
              "feature                       \n",
              "title                    0.257\n",
              "sex                      0.235\n",
              "pclass                   0.100\n",
              "relatives                0.082\n",
              "deck                     0.082\n",
              "fare                     0.063\n",
              "age_class                0.055\n",
              "fare_per_passenger       0.055\n",
              "age                      0.038\n",
              "sibsp                    0.033"
            ]
          },
          "metadata": {
            "tags": []
          },
          "execution_count": 44
        }
      ]
    },
    {
      "cell_type": "code",
      "metadata": {
        "colab": {
          "base_uri": "https://localhost:8080/",
          "height": 176
        },
        "id": "intensive-genetics",
        "outputId": "792ef688-e810-4253-ca26-a7469260b1e6"
      },
      "source": [
        "param_grid = {'n_estimators': [i for i in range(10, 500, 20)],\n",
        "              'max_depth': [i for i in range(1, 20, 1)],\n",
        "             }\n",
        "\n",
        "clf = RandomForestClassifier(random_state=42)\n",
        "\n",
        "grid_clf = GridSearchCV(clf, param_grid, cv=3)\n",
        "grid_clf.fit(X_train, y_train)\n",
        "\n",
        "display(grid_clf.best_estimator_)\n",
        "display(grid_clf.best_params_)"
      ],
      "id": "intensive-genetics",
      "execution_count": 54,
      "outputs": [
        {
          "output_type": "display_data",
          "data": {
            "text/plain": [
              "RandomForestClassifier(bootstrap=True, ccp_alpha=0.0, class_weight=None,\n",
              "                       criterion='gini', max_depth=4, max_features='auto',\n",
              "                       max_leaf_nodes=None, max_samples=None,\n",
              "                       min_impurity_decrease=0.0, min_impurity_split=None,\n",
              "                       min_samples_leaf=1, min_samples_split=2,\n",
              "                       min_weight_fraction_leaf=0.0, n_estimators=150,\n",
              "                       n_jobs=None, oob_score=False, random_state=42, verbose=0,\n",
              "                       warm_start=False)"
            ]
          },
          "metadata": {
            "tags": []
          }
        },
        {
          "output_type": "display_data",
          "data": {
            "text/plain": [
              "{'max_depth': 4, 'n_estimators': 150}"
            ]
          },
          "metadata": {
            "tags": []
          }
        }
      ]
    },
    {
      "cell_type": "code",
      "metadata": {
        "colab": {
          "base_uri": "https://localhost:8080/"
        },
        "id": "interior-contribution",
        "outputId": "7aa06578-5c3f-4ca6-ccd0-967187508abf"
      },
      "source": [
        "clf = RandomForestClassifier(max_depth=4, n_estimators=150)\n",
        "\n",
        "clf.fit(X_train, y_train)\n",
        "y_pred = clf.predict(X_test)\n",
        "print('Accuracy:', round(clf.score(X_train, y_train) * 100, 2))"
      ],
      "id": "interior-contribution",
      "execution_count": 55,
      "outputs": [
        {
          "output_type": "stream",
          "text": [
            "Accuracy: 83.95\n"
          ],
          "name": "stdout"
        }
      ]
    },
    {
      "cell_type": "code",
      "metadata": {
        "colab": {
          "base_uri": "https://localhost:8080/"
        },
        "id": "K3PQ3XCOxFBl",
        "outputId": "b39a5c66-2654-4797-b3b0-70c07c608134"
      },
      "source": [
        "clf.predict_proba(X_test)"
      ],
      "id": "K3PQ3XCOxFBl",
      "execution_count": 56,
      "outputs": [
        {
          "output_type": "execute_result",
          "data": {
            "text/plain": [
              "array([[0.890181  , 0.109819  ],\n",
              "       [0.45074494, 0.54925506],\n",
              "       [0.86623039, 0.13376961],\n",
              "       [0.90452118, 0.09547882],\n",
              "       [0.45283745, 0.54716255],\n",
              "       [0.89700942, 0.10299058],\n",
              "       [0.49168396, 0.50831604],\n",
              "       [0.77716342, 0.22283658],\n",
              "       [0.37959289, 0.62040711],\n",
              "       [0.8437619 , 0.1562381 ],\n",
              "       [0.89789638, 0.10210362],\n",
              "       [0.77440363, 0.22559637],\n",
              "       [0.04921192, 0.95078808],\n",
              "       [0.85907362, 0.14092638],\n",
              "       [0.05252769, 0.94747231],\n",
              "       [0.16050062, 0.83949938],\n",
              "       [0.85968056, 0.14031944],\n",
              "       [0.91065433, 0.08934567],\n",
              "       [0.44494393, 0.55505607],\n",
              "       [0.4133237 , 0.5866763 ],\n",
              "       [0.71101795, 0.28898205],\n",
              "       [0.52599527, 0.47400473],\n",
              "       [0.11521002, 0.88478998],\n",
              "       [0.73580381, 0.26419619],\n",
              "       [0.10069548, 0.89930452],\n",
              "       [0.89725284, 0.10274716],\n",
              "       [0.04692826, 0.95307174],\n",
              "       [0.890181  , 0.109819  ],\n",
              "       [0.62436556, 0.37563444],\n",
              "       [0.87362222, 0.12637778],\n",
              "       [0.85907362, 0.14092638],\n",
              "       [0.78540385, 0.21459615],\n",
              "       [0.40068232, 0.59931768],\n",
              "       [0.50275611, 0.49724389],\n",
              "       [0.56882212, 0.43117788],\n",
              "       [0.91065433, 0.08934567],\n",
              "       [0.4357592 , 0.5642408 ],\n",
              "       [0.4357592 , 0.5642408 ],\n",
              "       [0.88230747, 0.11769253],\n",
              "       [0.68255133, 0.31744867],\n",
              "       [0.9002983 , 0.0997017 ],\n",
              "       [0.57359187, 0.42640813],\n",
              "       [0.87930271, 0.12069729],\n",
              "       [0.16718172, 0.83281828],\n",
              "       [0.05731238, 0.94268762],\n",
              "       [0.89789638, 0.10210362],\n",
              "       [0.62436556, 0.37563444],\n",
              "       [0.890181  , 0.109819  ],\n",
              "       [0.04594657, 0.95405343],\n",
              "       [0.37238335, 0.62761665],\n",
              "       [0.54422788, 0.45577212],\n",
              "       [0.82346277, 0.17653723],\n",
              "       [0.23505591, 0.76494409],\n",
              "       [0.19718774, 0.80281226],\n",
              "       [0.84695923, 0.15304077],\n",
              "       [0.87983548, 0.12016452],\n",
              "       [0.890181  , 0.109819  ],\n",
              "       [0.89044401, 0.10955599],\n",
              "       [0.83866508, 0.16133492],\n",
              "       [0.05215635, 0.94784365],\n",
              "       [0.890181  , 0.109819  ],\n",
              "       [0.8714444 , 0.1285556 ],\n",
              "       [0.91065433, 0.08934567],\n",
              "       [0.36962344, 0.63037656],\n",
              "       [0.31007366, 0.68992634],\n",
              "       [0.14011442, 0.85988558],\n",
              "       [0.41155254, 0.58844746],\n",
              "       [0.75562718, 0.24437282],\n",
              "       [0.56918912, 0.43081088],\n",
              "       [0.18092551, 0.81907449],\n",
              "       [0.41155254, 0.58844746],\n",
              "       [0.89789638, 0.10210362],\n",
              "       [0.37828389, 0.62171611],\n",
              "       [0.58040718, 0.41959282],\n",
              "       [0.04378721, 0.95621279],\n",
              "       [0.55276087, 0.44723913],\n",
              "       [0.88374441, 0.11625559],\n",
              "       [0.08737872, 0.91262128],\n",
              "       [0.85968056, 0.14031944],\n",
              "       [0.41155254, 0.58844746],\n",
              "       [0.42842418, 0.57157582],\n",
              "       [0.58401095, 0.41598905],\n",
              "       [0.72679142, 0.27320858],\n",
              "       [0.88463093, 0.11536907],\n",
              "       [0.85968056, 0.14031944],\n",
              "       [0.87358331, 0.12641669],\n",
              "       [0.36962344, 0.63037656],\n",
              "       [0.46600299, 0.53399701],\n",
              "       [0.37828389, 0.62171611],\n",
              "       [0.39004029, 0.60995971],\n",
              "       [0.44973847, 0.55026153],\n",
              "       [0.890181  , 0.109819  ],\n",
              "       [0.10753064, 0.89246936],\n",
              "       [0.88374441, 0.11625559],\n",
              "       [0.77440363, 0.22559637],\n",
              "       [0.90855186, 0.09144814],\n",
              "       [0.06285935, 0.93714065],\n",
              "       [0.890181  , 0.109819  ],\n",
              "       [0.41155254, 0.58844746],\n",
              "       [0.87770612, 0.12229388],\n",
              "       [0.05200637, 0.94799363],\n",
              "       [0.79095093, 0.20904907],\n",
              "       [0.890181  , 0.109819  ],\n",
              "       [0.87930271, 0.12069729],\n",
              "       [0.46571833, 0.53428167],\n",
              "       [0.85327515, 0.14672485],\n",
              "       [0.890181  , 0.109819  ],\n",
              "       [0.87930271, 0.12069729],\n",
              "       [0.90452118, 0.09547882],\n",
              "       [0.77037556, 0.22962444],\n",
              "       [0.84695923, 0.15304077],\n",
              "       [0.36962344, 0.63037656],\n",
              "       [0.08383002, 0.91616998],\n",
              "       [0.37828389, 0.62171611],\n",
              "       [0.05135481, 0.94864519],\n",
              "       [0.87589852, 0.12410148],\n",
              "       [0.91065433, 0.08934567],\n",
              "       [0.35479318, 0.64520682],\n",
              "       [0.55276087, 0.44723913],\n",
              "       [0.14593436, 0.85406564],\n",
              "       [0.14292224, 0.85707776],\n",
              "       [0.87620806, 0.12379194],\n",
              "       [0.04668131, 0.95331869],\n",
              "       [0.87930271, 0.12069729],\n",
              "       [0.91065433, 0.08934567],\n",
              "       [0.37582943, 0.62417057],\n",
              "       [0.90855186, 0.09144814],\n",
              "       [0.37809217, 0.62190783],\n",
              "       [0.87501191, 0.12498809],\n",
              "       [0.90673929, 0.09326071],\n",
              "       [0.87770612, 0.12229388],\n",
              "       [0.37823073, 0.62176927],\n",
              "       [0.70918827, 0.29081173],\n",
              "       [0.87414632, 0.12585368],\n",
              "       [0.88463093, 0.11536907],\n",
              "       [0.890181  , 0.109819  ],\n",
              "       [0.890181  , 0.109819  ],\n",
              "       [0.8714444 , 0.1285556 ],\n",
              "       [0.39821347, 0.60178653],\n",
              "       [0.90057771, 0.09942229],\n",
              "       [0.83130038, 0.16869962],\n",
              "       [0.08756581, 0.91243419],\n",
              "       [0.57325843, 0.42674157],\n",
              "       [0.82346277, 0.17653723],\n",
              "       [0.73225585, 0.26774415],\n",
              "       [0.88692203, 0.11307797],\n",
              "       [0.56758098, 0.43241902],\n",
              "       [0.88121616, 0.11878384],\n",
              "       [0.72679142, 0.27320858],\n",
              "       [0.58584514, 0.41415486],\n",
              "       [0.06337114, 0.93662886],\n",
              "       [0.890181  , 0.109819  ],\n",
              "       [0.91065433, 0.08934567],\n",
              "       [0.43626688, 0.56373312],\n",
              "       [0.84699695, 0.15300305],\n",
              "       [0.91065433, 0.08934567],\n",
              "       [0.05305431, 0.94694569],\n",
              "       [0.41155254, 0.58844746],\n",
              "       [0.56382504, 0.43617496],\n",
              "       [0.38714655, 0.61285345],\n",
              "       [0.49168396, 0.50831604],\n",
              "       [0.49517634, 0.50482366],\n",
              "       [0.17955534, 0.82044466],\n",
              "       [0.89789638, 0.10210362],\n",
              "       [0.56141178, 0.43858822],\n",
              "       [0.37376675, 0.62623325],\n",
              "       [0.61685595, 0.38314405],\n",
              "       [0.92009467, 0.07990533],\n",
              "       [0.1176959 , 0.8823041 ],\n",
              "       [0.44311962, 0.55688038],\n",
              "       [0.91065433, 0.08934567],\n",
              "       [0.89789638, 0.10210362],\n",
              "       [0.86733482, 0.13266518],\n",
              "       [0.890181  , 0.109819  ],\n",
              "       [0.91826204, 0.08173796],\n",
              "       [0.13244248, 0.86755752],\n",
              "       [0.12753347, 0.87246653],\n",
              "       [0.65119148, 0.34880852],\n",
              "       [0.11268743, 0.88731257],\n",
              "       [0.06968586, 0.93031414],\n",
              "       [0.87501191, 0.12498809],\n",
              "       [0.583437  , 0.416563  ],\n",
              "       [0.04978259, 0.95021741],\n",
              "       [0.89789638, 0.10210362],\n",
              "       [0.07858138, 0.92141862],\n",
              "       [0.82346277, 0.17653723],\n",
              "       [0.15959178, 0.84040822],\n",
              "       [0.90790122, 0.09209878],\n",
              "       [0.84474971, 0.15525029],\n",
              "       [0.8714444 , 0.1285556 ],\n",
              "       [0.85011708, 0.14988292],\n",
              "       [0.76246758, 0.23753242],\n",
              "       [0.4678147 , 0.5321853 ],\n",
              "       [0.85968056, 0.14031944],\n",
              "       [0.45006055, 0.54993945],\n",
              "       [0.91065433, 0.08934567],\n",
              "       [0.19835311, 0.80164689],\n",
              "       [0.49168396, 0.50831604],\n",
              "       [0.86623039, 0.13376961],\n",
              "       [0.43271867, 0.56728133],\n",
              "       [0.36829132, 0.63170868],\n",
              "       [0.5078596 , 0.4921404 ],\n",
              "       [0.36865143, 0.63134857],\n",
              "       [0.19312838, 0.80687162],\n",
              "       [0.85968056, 0.14031944],\n",
              "       [0.73225585, 0.26774415],\n",
              "       [0.41155254, 0.58844746],\n",
              "       [0.86623039, 0.13376961],\n",
              "       [0.08635374, 0.91364626],\n",
              "       [0.90855186, 0.09144814],\n",
              "       [0.85327515, 0.14672485],\n",
              "       [0.90855186, 0.09144814],\n",
              "       [0.74221137, 0.25778863],\n",
              "       [0.15230404, 0.84769596],\n",
              "       [0.63160248, 0.36839752],\n",
              "       [0.61685595, 0.38314405],\n",
              "       [0.38608649, 0.61391351],\n",
              "       [0.75498377, 0.24501623],\n",
              "       [0.06813696, 0.93186304],\n",
              "       [0.87770612, 0.12229388],\n",
              "       [0.17973186, 0.82026814],\n",
              "       [0.88374441, 0.11625559],\n",
              "       [0.23378147, 0.76621853],\n",
              "       [0.87930271, 0.12069729],\n",
              "       [0.1159454 , 0.8840546 ],\n",
              "       [0.374413  , 0.625587  ],\n",
              "       [0.890181  , 0.109819  ],\n",
              "       [0.37828389, 0.62171611],\n",
              "       [0.82667891, 0.17332109],\n",
              "       [0.86623039, 0.13376961],\n",
              "       [0.69833042, 0.30166958],\n",
              "       [0.13605029, 0.86394971],\n",
              "       [0.90738714, 0.09261286],\n",
              "       [0.89789638, 0.10210362],\n",
              "       [0.56882212, 0.43117788],\n",
              "       [0.87930271, 0.12069729],\n",
              "       [0.64257011, 0.35742989],\n",
              "       [0.89789638, 0.10210362],\n",
              "       [0.20274871, 0.79725129],\n",
              "       [0.04668131, 0.95331869],\n",
              "       [0.11521002, 0.88478998],\n",
              "       [0.13277507, 0.86722493],\n",
              "       [0.57909209, 0.42090791],\n",
              "       [0.890181  , 0.109819  ],\n",
              "       [0.50983377, 0.49016623],\n",
              "       [0.64353516, 0.35646484],\n",
              "       [0.14579974, 0.85420026],\n",
              "       [0.82977788, 0.17022212],\n",
              "       [0.15337138, 0.84662862],\n",
              "       [0.53761827, 0.46238173],\n",
              "       [0.13768666, 0.86231334],\n",
              "       [0.87930271, 0.12069729],\n",
              "       [0.65119148, 0.34880852],\n",
              "       [0.87479192, 0.12520808],\n",
              "       [0.89700942, 0.10299058],\n",
              "       [0.87930271, 0.12069729],\n",
              "       [0.89789638, 0.10210362],\n",
              "       [0.87770612, 0.12229388],\n",
              "       [0.17920368, 0.82079632],\n",
              "       [0.91065433, 0.08934567],\n",
              "       [0.85474778, 0.14525222],\n",
              "       [0.89789638, 0.10210362],\n",
              "       [0.19759044, 0.80240956],\n",
              "       [0.46315032, 0.53684968],\n",
              "       [0.8714444 , 0.1285556 ],\n",
              "       [0.90855186, 0.09144814],\n",
              "       [0.85592212, 0.14407788],\n",
              "       [0.88463093, 0.11536907],\n",
              "       [0.53746369, 0.46253631],\n",
              "       [0.90452118, 0.09547882],\n",
              "       [0.55276087, 0.44723913],\n",
              "       [0.88463093, 0.11536907],\n",
              "       [0.04766889, 0.95233111],\n",
              "       [0.40591291, 0.59408709],\n",
              "       [0.90855186, 0.09144814],\n",
              "       [0.19312838, 0.80687162],\n",
              "       [0.8717354 , 0.1282646 ],\n",
              "       [0.79095093, 0.20904907],\n",
              "       [0.79095093, 0.20904907],\n",
              "       [0.8714444 , 0.1285556 ],\n",
              "       [0.53746369, 0.46253631],\n",
              "       [0.48817289, 0.51182711],\n",
              "       [0.36962344, 0.63037656],\n",
              "       [0.38048306, 0.61951694],\n",
              "       [0.38048306, 0.61951694],\n",
              "       [0.87930271, 0.12069729],\n",
              "       [0.87930271, 0.12069729],\n",
              "       [0.59171851, 0.40828149],\n",
              "       [0.90918443, 0.09081557],\n",
              "       [0.8891027 , 0.1108973 ],\n",
              "       [0.72972328, 0.27027672],\n",
              "       [0.37828389, 0.62171611],\n",
              "       [0.90855186, 0.09144814],\n",
              "       [0.35617935, 0.64382065],\n",
              "       [0.8820584 , 0.1179416 ],\n",
              "       [0.89789638, 0.10210362],\n",
              "       [0.13291218, 0.86708782],\n",
              "       [0.8437619 , 0.1562381 ],\n",
              "       [0.72541545, 0.27458455],\n",
              "       [0.91065433, 0.08934567],\n",
              "       [0.88463093, 0.11536907],\n",
              "       [0.62121547, 0.37878453],\n",
              "       [0.83076718, 0.16923282],\n",
              "       [0.90452118, 0.09547882],\n",
              "       [0.36962344, 0.63037656],\n",
              "       [0.09019419, 0.90980581],\n",
              "       [0.55226613, 0.44773387],\n",
              "       [0.43054105, 0.56945895],\n",
              "       [0.59035224, 0.40964776],\n",
              "       [0.44973847, 0.55026153],\n",
              "       [0.88374441, 0.11625559],\n",
              "       [0.89789638, 0.10210362],\n",
              "       [0.88463093, 0.11536907],\n",
              "       [0.38608649, 0.61391351],\n",
              "       [0.0677607 , 0.9322393 ],\n",
              "       [0.38608649, 0.61391351],\n",
              "       [0.5708305 , 0.4291695 ],\n",
              "       [0.8717354 , 0.1282646 ],\n",
              "       [0.87930271, 0.12069729],\n",
              "       [0.85469421, 0.14530579],\n",
              "       [0.890181  , 0.109819  ],\n",
              "       [0.89044401, 0.10955599],\n",
              "       [0.77037556, 0.22962444],\n",
              "       [0.76246758, 0.23753242],\n",
              "       [0.08828724, 0.91171276],\n",
              "       [0.90855186, 0.09144814],\n",
              "       [0.19036784, 0.80963216],\n",
              "       [0.65889007, 0.34110993],\n",
              "       [0.85011708, 0.14988292],\n",
              "       [0.85968056, 0.14031944],\n",
              "       [0.13173647, 0.86826353],\n",
              "       [0.70044602, 0.29955398],\n",
              "       [0.90855186, 0.09144814],\n",
              "       [0.37376675, 0.62623325],\n",
              "       [0.88463093, 0.11536907],\n",
              "       [0.60008958, 0.39991042],\n",
              "       [0.86541817, 0.13458183],\n",
              "       [0.90264042, 0.09735958],\n",
              "       [0.84017271, 0.15982729],\n",
              "       [0.60260159, 0.39739841],\n",
              "       [0.85968056, 0.14031944],\n",
              "       [0.88463093, 0.11536907],\n",
              "       [0.84671637, 0.15328363],\n",
              "       [0.04985176, 0.95014824],\n",
              "       [0.5534957 , 0.4465043 ],\n",
              "       [0.38608649, 0.61391351],\n",
              "       [0.8714444 , 0.1285556 ],\n",
              "       [0.37959289, 0.62040711],\n",
              "       [0.85968056, 0.14031944],\n",
              "       [0.18389585, 0.81610415],\n",
              "       [0.04639212, 0.95360788],\n",
              "       [0.86623039, 0.13376961],\n",
              "       [0.72843696, 0.27156304],\n",
              "       [0.80143538, 0.19856462],\n",
              "       [0.40530457, 0.59469543],\n",
              "       [0.56076567, 0.43923433],\n",
              "       [0.0817947 , 0.9182053 ],\n",
              "       [0.90855186, 0.09144814],\n",
              "       [0.88463093, 0.11536907],\n",
              "       [0.39861143, 0.60138857],\n",
              "       [0.87147775, 0.12852225],\n",
              "       [0.13453988, 0.86546012],\n",
              "       [0.18133559, 0.81866441],\n",
              "       [0.90452118, 0.09547882],\n",
              "       [0.04811393, 0.95188607],\n",
              "       [0.72537134, 0.27462866],\n",
              "       [0.90145787, 0.09854213],\n",
              "       [0.42009599, 0.57990401],\n",
              "       [0.09075905, 0.90924095],\n",
              "       [0.86623039, 0.13376961],\n",
              "       [0.85913976, 0.14086024],\n",
              "       [0.05069619, 0.94930381],\n",
              "       [0.81350172, 0.18649828],\n",
              "       [0.87501191, 0.12498809],\n",
              "       [0.0848669 , 0.9151331 ],\n",
              "       [0.08828724, 0.91171276],\n",
              "       [0.40881957, 0.59118043],\n",
              "       [0.86623039, 0.13376961],\n",
              "       [0.60645654, 0.39354346],\n",
              "       [0.84987179, 0.15012821],\n",
              "       [0.91065433, 0.08934567],\n",
              "       [0.89789638, 0.10210362],\n",
              "       [0.42567028, 0.57432972],\n",
              "       [0.39861143, 0.60138857],\n",
              "       [0.86541817, 0.13458183],\n",
              "       [0.13168782, 0.86831218],\n",
              "       [0.89789638, 0.10210362],\n",
              "       [0.8714444 , 0.1285556 ],\n",
              "       [0.87930271, 0.12069729],\n",
              "       [0.81297824, 0.18702176],\n",
              "       [0.55999542, 0.44000458],\n",
              "       [0.05749166, 0.94250834],\n",
              "       [0.46002792, 0.53997208],\n",
              "       [0.87501191, 0.12498809],\n",
              "       [0.91034651, 0.08965349],\n",
              "       [0.04966544, 0.95033456],\n",
              "       [0.87930271, 0.12069729],\n",
              "       [0.08295725, 0.91704275],\n",
              "       [0.890181  , 0.109819  ],\n",
              "       [0.88463093, 0.11536907],\n",
              "       [0.04312412, 0.95687588],\n",
              "       [0.8339648 , 0.1660352 ],\n",
              "       [0.09402736, 0.90597264],\n",
              "       [0.72972328, 0.27027672],\n",
              "       [0.60104913, 0.39895087],\n",
              "       [0.63528753, 0.36471247],\n",
              "       [0.87631121, 0.12368879],\n",
              "       [0.51311726, 0.48688274],\n",
              "       [0.37828389, 0.62171611],\n",
              "       [0.40984501, 0.59015499],\n",
              "       [0.36962344, 0.63037656],\n",
              "       [0.04966544, 0.95033456],\n",
              "       [0.41155254, 0.58844746],\n",
              "       [0.8891027 , 0.1108973 ],\n",
              "       [0.12213019, 0.87786981],\n",
              "       [0.88463093, 0.11536907],\n",
              "       [0.87770612, 0.12229388],\n",
              "       [0.39865785, 0.60134215]])"
            ]
          },
          "metadata": {
            "tags": []
          },
          "execution_count": 56
        }
      ]
    },
    {
      "cell_type": "code",
      "metadata": {
        "colab": {
          "base_uri": "https://localhost:8080/"
        },
        "id": "3mpgQaRMyotr",
        "outputId": "53f400f9-bbd0-40c7-f27b-f2e31edf4e3a"
      },
      "source": [
        "y_pred"
      ],
      "id": "3mpgQaRMyotr",
      "execution_count": 57,
      "outputs": [
        {
          "output_type": "execute_result",
          "data": {
            "text/plain": [
              "array([0, 1, 0, 0, 1, 0, 1, 0, 1, 0, 0, 0, 1, 0, 1, 1, 0, 0, 1, 1, 0, 0,\n",
              "       1, 0, 1, 0, 1, 0, 0, 0, 0, 0, 1, 0, 0, 0, 1, 1, 0, 0, 0, 0, 0, 1,\n",
              "       1, 0, 0, 0, 1, 1, 0, 0, 1, 1, 0, 0, 0, 0, 0, 1, 0, 0, 0, 1, 1, 1,\n",
              "       1, 0, 0, 1, 1, 0, 1, 0, 1, 0, 0, 1, 0, 1, 1, 0, 0, 0, 0, 0, 1, 1,\n",
              "       1, 1, 1, 0, 1, 0, 0, 0, 1, 0, 1, 0, 1, 0, 0, 0, 1, 0, 0, 0, 0, 0,\n",
              "       0, 1, 1, 1, 1, 0, 0, 1, 0, 1, 1, 0, 1, 0, 0, 1, 0, 1, 0, 0, 0, 1,\n",
              "       0, 0, 0, 0, 0, 0, 1, 0, 0, 1, 0, 0, 0, 0, 0, 0, 0, 0, 1, 0, 0, 1,\n",
              "       0, 0, 1, 1, 0, 1, 1, 1, 1, 0, 0, 1, 0, 0, 1, 1, 0, 0, 0, 0, 0, 1,\n",
              "       1, 0, 1, 1, 0, 0, 1, 0, 1, 0, 1, 0, 0, 0, 0, 0, 1, 0, 1, 0, 1, 1,\n",
              "       0, 1, 1, 0, 1, 1, 0, 0, 1, 0, 1, 0, 0, 0, 0, 1, 0, 0, 1, 0, 1, 0,\n",
              "       1, 0, 1, 0, 1, 1, 0, 1, 0, 0, 0, 1, 0, 0, 0, 0, 0, 0, 1, 1, 1, 1,\n",
              "       0, 0, 0, 0, 1, 0, 1, 0, 1, 0, 0, 0, 0, 0, 0, 0, 1, 0, 0, 0, 1, 1,\n",
              "       0, 0, 0, 0, 0, 0, 0, 0, 1, 1, 0, 1, 0, 0, 0, 0, 0, 1, 1, 1, 1, 0,\n",
              "       0, 0, 0, 0, 0, 1, 0, 1, 0, 0, 1, 0, 0, 0, 0, 0, 0, 0, 1, 1, 0, 1,\n",
              "       0, 1, 0, 0, 0, 1, 1, 1, 0, 0, 0, 0, 0, 0, 0, 0, 1, 0, 1, 0, 0, 0,\n",
              "       1, 0, 0, 1, 0, 0, 0, 0, 0, 0, 0, 0, 0, 1, 0, 1, 0, 1, 0, 1, 1, 0,\n",
              "       0, 0, 1, 0, 1, 0, 0, 1, 0, 1, 1, 0, 1, 0, 0, 1, 1, 0, 0, 1, 0, 0,\n",
              "       1, 1, 1, 0, 0, 0, 0, 0, 1, 1, 0, 1, 0, 0, 0, 0, 0, 1, 1, 0, 0, 1,\n",
              "       0, 1, 0, 0, 1, 0, 1, 0, 0, 0, 0, 0, 1, 1, 1, 1, 1, 0, 1, 0, 0, 1])"
            ]
          },
          "metadata": {
            "tags": []
          },
          "execution_count": 57
        }
      ]
    },
    {
      "cell_type": "code",
      "metadata": {
        "colab": {
          "base_uri": "https://localhost:8080/",
          "height": 204
        },
        "id": "8Nni0zliyu5v",
        "outputId": "aadc9af4-301a-417d-a4d8-f45833607a16"
      },
      "source": [
        "submission = pd.DataFrame({'PassengerID':titanic_test['passengerid'], 'Survived':y_pred})\n",
        "submission.head()"
      ],
      "id": "8Nni0zliyu5v",
      "execution_count": 59,
      "outputs": [
        {
          "output_type": "execute_result",
          "data": {
            "text/html": [
              "<div>\n",
              "<style scoped>\n",
              "    .dataframe tbody tr th:only-of-type {\n",
              "        vertical-align: middle;\n",
              "    }\n",
              "\n",
              "    .dataframe tbody tr th {\n",
              "        vertical-align: top;\n",
              "    }\n",
              "\n",
              "    .dataframe thead th {\n",
              "        text-align: right;\n",
              "    }\n",
              "</style>\n",
              "<table border=\"1\" class=\"dataframe\">\n",
              "  <thead>\n",
              "    <tr style=\"text-align: right;\">\n",
              "      <th></th>\n",
              "      <th>PassengerID</th>\n",
              "      <th>Survived</th>\n",
              "    </tr>\n",
              "  </thead>\n",
              "  <tbody>\n",
              "    <tr>\n",
              "      <th>0</th>\n",
              "      <td>892</td>\n",
              "      <td>0</td>\n",
              "    </tr>\n",
              "    <tr>\n",
              "      <th>1</th>\n",
              "      <td>893</td>\n",
              "      <td>1</td>\n",
              "    </tr>\n",
              "    <tr>\n",
              "      <th>2</th>\n",
              "      <td>894</td>\n",
              "      <td>0</td>\n",
              "    </tr>\n",
              "    <tr>\n",
              "      <th>3</th>\n",
              "      <td>895</td>\n",
              "      <td>0</td>\n",
              "    </tr>\n",
              "    <tr>\n",
              "      <th>4</th>\n",
              "      <td>896</td>\n",
              "      <td>1</td>\n",
              "    </tr>\n",
              "  </tbody>\n",
              "</table>\n",
              "</div>"
            ],
            "text/plain": [
              "   PassengerID  Survived\n",
              "0          892         0\n",
              "1          893         1\n",
              "2          894         0\n",
              "3          895         0\n",
              "4          896         1"
            ]
          },
          "metadata": {
            "tags": []
          },
          "execution_count": 59
        }
      ]
    },
    {
      "cell_type": "code",
      "metadata": {
        "colab": {
          "base_uri": "https://localhost:8080/"
        },
        "id": "2CxJbklGzD3h",
        "outputId": "868424a4-9968-422a-8b7b-ac540eedaa0d"
      },
      "source": [
        "filename = 'Titanic Predictions 1.csv'\n",
        "submission.to_csv(filename, index=False)\n",
        "print('Saved file: ' + filename)"
      ],
      "id": "2CxJbklGzD3h",
      "execution_count": 60,
      "outputs": [
        {
          "output_type": "stream",
          "text": [
            "Saved file: Titanic Predictions 1.csv\n"
          ],
          "name": "stdout"
        }
      ]
    }
  ]
}